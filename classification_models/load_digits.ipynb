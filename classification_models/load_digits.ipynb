{
 "cells": [
  {
   "cell_type": "markdown",
   "id": "90e31249",
   "metadata": {},
   "source": [
    "### (1) load_digits: 손글씨 분류"
   ]
  },
  {
   "cell_type": "markdown",
   "id": "745eec78",
   "metadata": {},
   "source": [
    "**project progress purpose**"
   ]
  },
  {
   "cell_type": "markdown",
   "id": "d89baedd",
   "metadata": {},
   "source": [
    "* (1) understanding data\n",
    "    * Feature Data 지정\n",
    "    * Label Data 지정\n",
    "    * Target Names 출력\n",
    "    * Data Describe"
   ]
  },
  {
   "cell_type": "markdown",
   "id": "557aa622",
   "metadata": {},
   "source": [
    "* (2) train, test data separation"
   ]
  },
  {
   "cell_type": "markdown",
   "id": "bb230f79",
   "metadata": {},
   "source": [
    "* (3) learning with various models\n",
    "    * Decision Tree\n",
    "    * Random Forest\n",
    "    * SVM\n",
    "    * SGD Classifier\n",
    "    * Logistic Regression"
   ]
  },
  {
   "cell_type": "markdown",
   "id": "226de37a",
   "metadata": {},
   "source": [
    "* (4) evaluation models"
   ]
  },
  {
   "cell_type": "markdown",
   "id": "e00a90f2",
   "metadata": {},
   "source": [
    "**necessary module import**"
   ]
  },
  {
   "cell_type": "code",
   "execution_count": 2,
   "id": "4b14c395",
   "metadata": {},
   "outputs": [],
   "source": [
    "from sklearn.datasets import load_digits\n",
    "from sklearn.model_selection import train_test_split\n",
    "from sklearn.metrics import classification_report\n",
    "\n",
    "\n",
    "from sklearn.tree import DecisionTreeClassifier\n",
    "from sklearn.ensemble import RandomForestClassifier\n",
    "from sklearn import svm\n",
    "from sklearn.linear_model import SGDClassifier\n",
    "from sklearn.linear_model import LogisticRegression\n",
    "\n",
    "\n",
    "import numpy as np\n",
    "import pandas as pd\n",
    "import matplotlib.pyplot as plt\n",
    "import seaborn as sns"
   ]
  },
  {
   "cell_type": "markdown",
   "id": "6fb0d946",
   "metadata": {},
   "source": [
    "**data preparation**"
   ]
  },
  {
   "cell_type": "code",
   "execution_count": 3,
   "id": "215b3856",
   "metadata": {},
   "outputs": [
    {
     "name": "stdout",
     "output_type": "stream",
     "text": [
      "['DESCR', 'data', 'feature_names', 'frame', 'images', 'target', 'target_names']\n",
      "(1797, 64)\n"
     ]
    }
   ],
   "source": [
    "digits = load_digits()\n",
    "\n",
    "print(dir(digits))\n",
    "print(digits.data.shape)"
   ]
  },
  {
   "cell_type": "markdown",
   "id": "fd888901",
   "metadata": {},
   "source": [
    ": 데이터는 총 1,797개가 있으며, 각 데이터는 64개의 숫자로 이루어져 있다."
   ]
  },
  {
   "cell_type": "code",
   "execution_count": 4,
   "id": "4244466b",
   "metadata": {},
   "outputs": [
    {
     "name": "stdout",
     "output_type": "stream",
     "text": [
      "(1797, 64)\n",
      "[ 0.  0.  5. 13.  9.  1.  0.  0.  0.  0. 13. 15. 10. 15.  5.  0.  0.  3.\n",
      " 15.  2.  0. 11.  8.  0.  0.  4. 12.  0.  0.  8.  8.  0.  0.  5.  8.  0.\n",
      "  0.  9.  8.  0.  0.  4. 11.  0.  1. 12.  7.  0.  0.  2. 14.  5. 10. 12.\n",
      "  0.  0.  0.  0.  6. 13. 10.  0.  0.  0.]\n",
      "(1797,)\n"
     ]
    }
   ],
   "source": [
    "digits_data = digits.data\n",
    "digits_label = digits.target\n",
    "\n",
    "print(digits_data.shape)\n",
    "print(digits_data[0]) # 64개의 배열로 이루어진 배열로 출력됨.\n",
    "print(digits_label.shape)"
   ]
  },
  {
   "cell_type": "markdown",
   "id": "25d891d1",
   "metadata": {},
   "source": [
    ": 즉, 길이 64의 숫자 배열은 8*8 크기의 이미지를 일렬로 쭉 펴놓은 것"
   ]
  },
  {
   "cell_type": "code",
   "execution_count": 5,
   "id": "43889bcf",
   "metadata": {},
   "outputs": [
    {
     "name": "stdout",
     "output_type": "stream",
     "text": [
      "[0 1 2 ... 8 9 8]\n"
     ]
    }
   ],
   "source": [
    "print(digits_label)"
   ]
  },
  {
   "cell_type": "code",
   "execution_count": 6,
   "id": "d388ce2b",
   "metadata": {},
   "outputs": [
    {
     "data": {
      "text/plain": [
       "(1797, 8, 8)"
      ]
     },
     "execution_count": 6,
     "metadata": {},
     "output_type": "execute_result"
    }
   ],
   "source": [
    "digits.images.shape"
   ]
  },
  {
   "cell_type": "code",
   "execution_count": 7,
   "id": "4408fb53",
   "metadata": {},
   "outputs": [
    {
     "name": "stdout",
     "output_type": "stream",
     "text": [
      ".. _digits_dataset:\n",
      "\n",
      "Optical recognition of handwritten digits dataset\n",
      "--------------------------------------------------\n",
      "\n",
      "**Data Set Characteristics:**\n",
      "\n",
      "    :Number of Instances: 1797\n",
      "    :Number of Attributes: 64\n",
      "    :Attribute Information: 8x8 image of integer pixels in the range 0..16.\n",
      "    :Missing Attribute Values: None\n",
      "    :Creator: E. Alpaydin (alpaydin '@' boun.edu.tr)\n",
      "    :Date: July; 1998\n",
      "\n",
      "This is a copy of the test set of the UCI ML hand-written digits datasets\n",
      "https://archive.ics.uci.edu/ml/datasets/Optical+Recognition+of+Handwritten+Digits\n",
      "\n",
      "The data set contains images of hand-written digits: 10 classes where\n",
      "each class refers to a digit.\n",
      "\n",
      "Preprocessing programs made available by NIST were used to extract\n",
      "normalized bitmaps of handwritten digits from a preprinted form. From a\n",
      "total of 43 people, 30 contributed to the training set and different 13\n",
      "to the test set. 32x32 bitmaps are divided into nonoverlapping blocks of\n",
      "4x4 and the number of on pixels are counted in each block. This generates\n",
      "an input matrix of 8x8 where each element is an integer in the range\n",
      "0..16. This reduces dimensionality and gives invariance to small\n",
      "distortions.\n",
      "\n",
      "For info on NIST preprocessing routines, see M. D. Garris, J. L. Blue, G.\n",
      "T. Candela, D. L. Dimmick, J. Geist, P. J. Grother, S. A. Janet, and C.\n",
      "L. Wilson, NIST Form-Based Handprint Recognition System, NISTIR 5469,\n",
      "1994.\n",
      "\n",
      ".. topic:: References\n",
      "\n",
      "  - C. Kaynak (1995) Methods of Combining Multiple Classifiers and Their\n",
      "    Applications to Handwritten Digit Recognition, MSc Thesis, Institute of\n",
      "    Graduate Studies in Science and Engineering, Bogazici University.\n",
      "  - E. Alpaydin, C. Kaynak (1998) Cascading Classifiers, Kybernetika.\n",
      "  - Ken Tang and Ponnuthurai N. Suganthan and Xi Yao and A. Kai Qin.\n",
      "    Linear dimensionalityreduction using relevance weighted LDA. School of\n",
      "    Electrical and Electronic Engineering Nanyang Technological University.\n",
      "    2005.\n",
      "  - Claudio Gentile. A New Approximate Maximal Margin Classification\n",
      "    Algorithm. NIPS. 2000.\n",
      "\n"
     ]
    }
   ],
   "source": [
    "print(digits.DESCR)"
   ]
  },
  {
   "cell_type": "markdown",
   "id": "afd6c0d6",
   "metadata": {},
   "source": [
    "* 객체의 개수: 1797개\n",
    "* 속성의 개수: 64개\n",
    "* 결측치 개수: 0개\n",
    "* 속성 정보: 0~16 범위의 정수형 픽셀 8x8 이미지"
   ]
  },
  {
   "cell_type": "markdown",
   "id": "df237fd1",
   "metadata": {},
   "source": [
    "**train_test_split() 함수를 이용한 train, test분리**"
   ]
  },
  {
   "cell_type": "code",
   "execution_count": 8,
   "id": "679b6571",
   "metadata": {},
   "outputs": [
    {
     "data": {
      "text/html": [
       "<div>\n",
       "<style scoped>\n",
       "    .dataframe tbody tr th:only-of-type {\n",
       "        vertical-align: middle;\n",
       "    }\n",
       "\n",
       "    .dataframe tbody tr th {\n",
       "        vertical-align: top;\n",
       "    }\n",
       "\n",
       "    .dataframe thead th {\n",
       "        text-align: right;\n",
       "    }\n",
       "</style>\n",
       "<table border=\"1\" class=\"dataframe\">\n",
       "  <thead>\n",
       "    <tr style=\"text-align: right;\">\n",
       "      <th></th>\n",
       "      <th>pixel_0_0</th>\n",
       "      <th>pixel_0_1</th>\n",
       "      <th>pixel_0_2</th>\n",
       "      <th>pixel_0_3</th>\n",
       "      <th>pixel_0_4</th>\n",
       "      <th>pixel_0_5</th>\n",
       "      <th>pixel_0_6</th>\n",
       "      <th>pixel_0_7</th>\n",
       "      <th>pixel_1_0</th>\n",
       "      <th>pixel_1_1</th>\n",
       "      <th>...</th>\n",
       "      <th>pixel_6_6</th>\n",
       "      <th>pixel_6_7</th>\n",
       "      <th>pixel_7_0</th>\n",
       "      <th>pixel_7_1</th>\n",
       "      <th>pixel_7_2</th>\n",
       "      <th>pixel_7_3</th>\n",
       "      <th>pixel_7_4</th>\n",
       "      <th>pixel_7_5</th>\n",
       "      <th>pixel_7_6</th>\n",
       "      <th>pixel_7_7</th>\n",
       "    </tr>\n",
       "  </thead>\n",
       "  <tbody>\n",
       "    <tr>\n",
       "      <th>0</th>\n",
       "      <td>0.0</td>\n",
       "      <td>0.0</td>\n",
       "      <td>5.0</td>\n",
       "      <td>13.0</td>\n",
       "      <td>9.0</td>\n",
       "      <td>1.0</td>\n",
       "      <td>0.0</td>\n",
       "      <td>0.0</td>\n",
       "      <td>0.0</td>\n",
       "      <td>0.0</td>\n",
       "      <td>...</td>\n",
       "      <td>0.0</td>\n",
       "      <td>0.0</td>\n",
       "      <td>0.0</td>\n",
       "      <td>0.0</td>\n",
       "      <td>6.0</td>\n",
       "      <td>13.0</td>\n",
       "      <td>10.0</td>\n",
       "      <td>0.0</td>\n",
       "      <td>0.0</td>\n",
       "      <td>0.0</td>\n",
       "    </tr>\n",
       "    <tr>\n",
       "      <th>1</th>\n",
       "      <td>0.0</td>\n",
       "      <td>0.0</td>\n",
       "      <td>0.0</td>\n",
       "      <td>12.0</td>\n",
       "      <td>13.0</td>\n",
       "      <td>5.0</td>\n",
       "      <td>0.0</td>\n",
       "      <td>0.0</td>\n",
       "      <td>0.0</td>\n",
       "      <td>0.0</td>\n",
       "      <td>...</td>\n",
       "      <td>0.0</td>\n",
       "      <td>0.0</td>\n",
       "      <td>0.0</td>\n",
       "      <td>0.0</td>\n",
       "      <td>0.0</td>\n",
       "      <td>11.0</td>\n",
       "      <td>16.0</td>\n",
       "      <td>10.0</td>\n",
       "      <td>0.0</td>\n",
       "      <td>0.0</td>\n",
       "    </tr>\n",
       "    <tr>\n",
       "      <th>2</th>\n",
       "      <td>0.0</td>\n",
       "      <td>0.0</td>\n",
       "      <td>0.0</td>\n",
       "      <td>4.0</td>\n",
       "      <td>15.0</td>\n",
       "      <td>12.0</td>\n",
       "      <td>0.0</td>\n",
       "      <td>0.0</td>\n",
       "      <td>0.0</td>\n",
       "      <td>0.0</td>\n",
       "      <td>...</td>\n",
       "      <td>5.0</td>\n",
       "      <td>0.0</td>\n",
       "      <td>0.0</td>\n",
       "      <td>0.0</td>\n",
       "      <td>0.0</td>\n",
       "      <td>3.0</td>\n",
       "      <td>11.0</td>\n",
       "      <td>16.0</td>\n",
       "      <td>9.0</td>\n",
       "      <td>0.0</td>\n",
       "    </tr>\n",
       "    <tr>\n",
       "      <th>3</th>\n",
       "      <td>0.0</td>\n",
       "      <td>0.0</td>\n",
       "      <td>7.0</td>\n",
       "      <td>15.0</td>\n",
       "      <td>13.0</td>\n",
       "      <td>1.0</td>\n",
       "      <td>0.0</td>\n",
       "      <td>0.0</td>\n",
       "      <td>0.0</td>\n",
       "      <td>8.0</td>\n",
       "      <td>...</td>\n",
       "      <td>9.0</td>\n",
       "      <td>0.0</td>\n",
       "      <td>0.0</td>\n",
       "      <td>0.0</td>\n",
       "      <td>7.0</td>\n",
       "      <td>13.0</td>\n",
       "      <td>13.0</td>\n",
       "      <td>9.0</td>\n",
       "      <td>0.0</td>\n",
       "      <td>0.0</td>\n",
       "    </tr>\n",
       "    <tr>\n",
       "      <th>4</th>\n",
       "      <td>0.0</td>\n",
       "      <td>0.0</td>\n",
       "      <td>0.0</td>\n",
       "      <td>1.0</td>\n",
       "      <td>11.0</td>\n",
       "      <td>0.0</td>\n",
       "      <td>0.0</td>\n",
       "      <td>0.0</td>\n",
       "      <td>0.0</td>\n",
       "      <td>0.0</td>\n",
       "      <td>...</td>\n",
       "      <td>0.0</td>\n",
       "      <td>0.0</td>\n",
       "      <td>0.0</td>\n",
       "      <td>0.0</td>\n",
       "      <td>0.0</td>\n",
       "      <td>2.0</td>\n",
       "      <td>16.0</td>\n",
       "      <td>4.0</td>\n",
       "      <td>0.0</td>\n",
       "      <td>0.0</td>\n",
       "    </tr>\n",
       "  </tbody>\n",
       "</table>\n",
       "<p>5 rows × 64 columns</p>\n",
       "</div>"
      ],
      "text/plain": [
       "   pixel_0_0  pixel_0_1  pixel_0_2  pixel_0_3  pixel_0_4  pixel_0_5  \\\n",
       "0        0.0        0.0        5.0       13.0        9.0        1.0   \n",
       "1        0.0        0.0        0.0       12.0       13.0        5.0   \n",
       "2        0.0        0.0        0.0        4.0       15.0       12.0   \n",
       "3        0.0        0.0        7.0       15.0       13.0        1.0   \n",
       "4        0.0        0.0        0.0        1.0       11.0        0.0   \n",
       "\n",
       "   pixel_0_6  pixel_0_7  pixel_1_0  pixel_1_1  ...  pixel_6_6  pixel_6_7  \\\n",
       "0        0.0        0.0        0.0        0.0  ...        0.0        0.0   \n",
       "1        0.0        0.0        0.0        0.0  ...        0.0        0.0   \n",
       "2        0.0        0.0        0.0        0.0  ...        5.0        0.0   \n",
       "3        0.0        0.0        0.0        8.0  ...        9.0        0.0   \n",
       "4        0.0        0.0        0.0        0.0  ...        0.0        0.0   \n",
       "\n",
       "   pixel_7_0  pixel_7_1  pixel_7_2  pixel_7_3  pixel_7_4  pixel_7_5  \\\n",
       "0        0.0        0.0        6.0       13.0       10.0        0.0   \n",
       "1        0.0        0.0        0.0       11.0       16.0       10.0   \n",
       "2        0.0        0.0        0.0        3.0       11.0       16.0   \n",
       "3        0.0        0.0        7.0       13.0       13.0        9.0   \n",
       "4        0.0        0.0        0.0        2.0       16.0        4.0   \n",
       "\n",
       "   pixel_7_6  pixel_7_7  \n",
       "0        0.0        0.0  \n",
       "1        0.0        0.0  \n",
       "2        9.0        0.0  \n",
       "3        0.0        0.0  \n",
       "4        0.0        0.0  \n",
       "\n",
       "[5 rows x 64 columns]"
      ]
     },
     "execution_count": 8,
     "metadata": {},
     "output_type": "execute_result"
    }
   ],
   "source": [
    "digits_df = pd.DataFrame(data=digits_data, columns=digits.feature_names)\n",
    "digits_df.head()"
   ]
  },
  {
   "cell_type": "code",
   "execution_count": 9,
   "id": "b9c8f33b",
   "metadata": {},
   "outputs": [],
   "source": [
    "X_train, X_test, y_train, y_test = train_test_split(digits_data,\n",
    "                                                   digits_label,\n",
    "                                                   test_size=0.2,\n",
    "                                                   random_state=20)"
   ]
  },
  {
   "cell_type": "markdown",
   "id": "de193b70",
   "metadata": {},
   "source": [
    "**data check**"
   ]
  },
  {
   "cell_type": "code",
   "execution_count": 10,
   "id": "56442359",
   "metadata": {},
   "outputs": [
    {
     "name": "stdout",
     "output_type": "stream",
     "text": [
      "X_train : (1437, 64)\n",
      "y_train : (1437,)\n",
      "X_test : (360, 64)\n",
      "y_test : (360,)\n"
     ]
    }
   ],
   "source": [
    "print(f'X_train : {X_train.shape}')\n",
    "print(f'y_train : {y_train.shape}')\n",
    "print(f'X_test : {X_test.shape}')\n",
    "print(f'y_test : {y_test.shape}')"
   ]
  },
  {
   "cell_type": "markdown",
   "id": "03c521ae",
   "metadata": {},
   "source": [
    "**model 학습**"
   ]
  },
  {
   "cell_type": "code",
   "execution_count": 11,
   "id": "4ba5b939",
   "metadata": {},
   "outputs": [],
   "source": [
    "y_pred_dict = {}   # 모델별 예측값을 한꺼번에 시각화 시켜주기 위해 리스트에 변수추가"
   ]
  },
  {
   "cell_type": "markdown",
   "id": "4d1297d6",
   "metadata": {},
   "source": [
    "* Decision Tree"
   ]
  },
  {
   "cell_type": "code",
   "execution_count": 12,
   "id": "888b4401",
   "metadata": {},
   "outputs": [
    {
     "name": "stdout",
     "output_type": "stream",
     "text": [
      "              precision    recall  f1-score   support\n",
      "\n",
      "           0       0.97      0.97      0.97        37\n",
      "           1       0.79      0.84      0.81        31\n",
      "           2       0.92      0.86      0.89        28\n",
      "           3       0.89      0.87      0.88        38\n",
      "           4       0.88      0.85      0.86        41\n",
      "           5       0.81      0.88      0.84        33\n",
      "           6       0.95      0.89      0.92        45\n",
      "           7       0.88      0.93      0.90        40\n",
      "           8       0.79      0.77      0.78        35\n",
      "           9       0.79      0.81      0.80        32\n",
      "\n",
      "    accuracy                           0.87       360\n",
      "   macro avg       0.87      0.87      0.87       360\n",
      "weighted avg       0.87      0.87      0.87       360\n",
      "\n"
     ]
    }
   ],
   "source": [
    "decision_model = DecisionTreeClassifier(random_state=20)\n",
    "decision_model.fit(X_train, y_train)\n",
    "y_pred = decision_model.predict(X_test)\n",
    "# 예측값 딕셔너리에 추가\n",
    "y_pred_dict['Decision Tree'] = classification_report(y_test, y_pred, output_dict=True)\n",
    "\n",
    "print(classification_report(y_test, y_pred))"
   ]
  },
  {
   "cell_type": "markdown",
   "id": "fdef1873",
   "metadata": {},
   "source": [
    "* Random Forest"
   ]
  },
  {
   "cell_type": "code",
   "execution_count": 13,
   "id": "35332ac7",
   "metadata": {},
   "outputs": [
    {
     "name": "stdout",
     "output_type": "stream",
     "text": [
      "              precision    recall  f1-score   support\n",
      "\n",
      "           0       1.00      1.00      1.00        37\n",
      "           1       1.00      1.00      1.00        31\n",
      "           2       1.00      1.00      1.00        28\n",
      "           3       1.00      1.00      1.00        38\n",
      "           4       1.00      0.98      0.99        41\n",
      "           5       0.97      0.97      0.97        33\n",
      "           6       1.00      1.00      1.00        45\n",
      "           7       1.00      1.00      1.00        40\n",
      "           8       0.97      1.00      0.99        35\n",
      "           9       0.94      0.94      0.94        32\n",
      "\n",
      "    accuracy                           0.99       360\n",
      "   macro avg       0.99      0.99      0.99       360\n",
      "weighted avg       0.99      0.99      0.99       360\n",
      "\n"
     ]
    }
   ],
   "source": [
    "random_forest_model = RandomForestClassifier(random_state = 40)\n",
    "random_forest_model.fit(X_train, y_train)\n",
    "y_pred = random_forest_model.predict(X_test)\n",
    "# 예측값 딕셔너리에 추가\n",
    "y_pred_dict['RandomForest'] = classification_report(y_test, y_pred, output_dict=True)\n",
    "\n",
    "print(classification_report(y_test, y_pred))\n"
   ]
  },
  {
   "cell_type": "markdown",
   "id": "753324d8",
   "metadata": {},
   "source": [
    "* SVM"
   ]
  },
  {
   "cell_type": "code",
   "execution_count": 14,
   "id": "e79ee073",
   "metadata": {},
   "outputs": [
    {
     "name": "stdout",
     "output_type": "stream",
     "text": [
      "              precision    recall  f1-score   support\n",
      "\n",
      "           0       1.00      1.00      1.00        37\n",
      "           1       0.97      1.00      0.98        31\n",
      "           2       1.00      1.00      1.00        28\n",
      "           3       1.00      1.00      1.00        38\n",
      "           4       1.00      0.98      0.99        41\n",
      "           5       0.97      0.97      0.97        33\n",
      "           6       1.00      0.98      0.99        45\n",
      "           7       1.00      1.00      1.00        40\n",
      "           8       0.94      0.97      0.96        35\n",
      "           9       0.94      0.94      0.94        32\n",
      "\n",
      "    accuracy                           0.98       360\n",
      "   macro avg       0.98      0.98      0.98       360\n",
      "weighted avg       0.98      0.98      0.98       360\n",
      "\n"
     ]
    }
   ],
   "source": [
    "svm_model = svm.SVC()\n",
    "svm_model.fit(X_train, y_train)\n",
    "y_pred = svm_model.predict(X_test)\n",
    "# 예측값 딕셔너리에 추가\n",
    "y_pred_dict['SVM'] = classification_report(y_test, y_pred, output_dict=True)\n",
    "\n",
    "print(classification_report(y_test, y_pred))"
   ]
  },
  {
   "cell_type": "markdown",
   "id": "a04aaf1a",
   "metadata": {},
   "source": [
    "* SGD"
   ]
  },
  {
   "cell_type": "code",
   "execution_count": 15,
   "id": "49a5ef4d",
   "metadata": {},
   "outputs": [
    {
     "name": "stdout",
     "output_type": "stream",
     "text": [
      "              precision    recall  f1-score   support\n",
      "\n",
      "           0       1.00      1.00      1.00        37\n",
      "           1       0.88      0.97      0.92        31\n",
      "           2       1.00      1.00      1.00        28\n",
      "           3       0.95      1.00      0.97        38\n",
      "           4       1.00      0.95      0.97        41\n",
      "           5       1.00      0.94      0.97        33\n",
      "           6       0.98      0.98      0.98        45\n",
      "           7       1.00      0.97      0.99        40\n",
      "           8       0.92      0.97      0.94        35\n",
      "           9       0.97      0.91      0.94        32\n",
      "\n",
      "    accuracy                           0.97       360\n",
      "   macro avg       0.97      0.97      0.97       360\n",
      "weighted avg       0.97      0.97      0.97       360\n",
      "\n"
     ]
    }
   ],
   "source": [
    "sgd_model = SGDClassifier()\n",
    "sgd_model.fit(X_train, y_train)\n",
    "y_pred = sgd_model.predict(X_test)\n",
    "# 예측값 딕셔너리에 추가\n",
    "y_pred_dict['SGD'] = classification_report(y_test, y_pred, output_dict=True)\n",
    "\n",
    "print(classification_report(y_test, y_pred))"
   ]
  },
  {
   "cell_type": "markdown",
   "id": "bf891442",
   "metadata": {},
   "source": [
    "* Logistic Regression"
   ]
  },
  {
   "cell_type": "code",
   "execution_count": 16,
   "id": "a4ce1715",
   "metadata": {},
   "outputs": [
    {
     "name": "stdout",
     "output_type": "stream",
     "text": [
      "              precision    recall  f1-score   support\n",
      "\n",
      "           0       1.00      1.00      1.00        37\n",
      "           1       0.94      0.97      0.95        31\n",
      "           2       1.00      1.00      1.00        28\n",
      "           3       0.95      1.00      0.97        38\n",
      "           4       1.00      0.98      0.99        41\n",
      "           5       0.97      0.97      0.97        33\n",
      "           6       1.00      0.98      0.99        45\n",
      "           7       1.00      0.97      0.99        40\n",
      "           8       0.97      1.00      0.99        35\n",
      "           9       0.97      0.94      0.95        32\n",
      "\n",
      "    accuracy                           0.98       360\n",
      "   macro avg       0.98      0.98      0.98       360\n",
      "weighted avg       0.98      0.98      0.98       360\n",
      "\n"
     ]
    },
    {
     "name": "stderr",
     "output_type": "stream",
     "text": [
      "/opt/conda/lib/python3.9/site-packages/sklearn/linear_model/_logistic.py:814: ConvergenceWarning: lbfgs failed to converge (status=1):\n",
      "STOP: TOTAL NO. of ITERATIONS REACHED LIMIT.\n",
      "\n",
      "Increase the number of iterations (max_iter) or scale the data as shown in:\n",
      "    https://scikit-learn.org/stable/modules/preprocessing.html\n",
      "Please also refer to the documentation for alternative solver options:\n",
      "    https://scikit-learn.org/stable/modules/linear_model.html#logistic-regression\n",
      "  n_iter_i = _check_optimize_result(\n"
     ]
    }
   ],
   "source": [
    "logistic_model = LogisticRegression()\n",
    "logistic_model.fit(X_train, y_train)\n",
    "y_pred = logistic_model.predict(X_test)\n",
    "# 예측값 딕셔너리에 추가\n",
    "y_pred_dict['Logistic Regression'] = classification_report(y_test, y_pred, output_dict=True)\n",
    "\n",
    "print(classification_report(y_test, y_pred))"
   ]
  },
  {
   "cell_type": "markdown",
   "id": "a1e6cbf9",
   "metadata": {},
   "source": [
    "**딕셔너리 합치기**"
   ]
  },
  {
   "cell_type": "code",
   "execution_count": 17,
   "id": "64612428",
   "metadata": {},
   "outputs": [
    {
     "data": {
      "text/plain": [
       "{'accuracy': 0.9805555555555555,\n",
       " 'precision': 0.9797161127403061,\n",
       " 'recall': 0.9803326439056178,\n",
       " 'f1-score': 0.979849347985897,\n",
       " 'support': 360}"
      ]
     },
     "execution_count": 17,
     "metadata": {},
     "output_type": "execute_result"
    }
   ],
   "source": [
    "final_data = {}\n",
    "for name, score in y_pred_dict.items():\n",
    "    final_data[name] = {'accuracy' : score['accuracy'], \n",
    "                        **score['macro avg'],\n",
    "                       **score['macro avg'],\n",
    "                       **score['macro avg']} # 딕셔너리 자료형 merge \n",
    "\n",
    "final_data[name]"
   ]
  },
  {
   "cell_type": "markdown",
   "id": "b74fcd46",
   "metadata": {},
   "source": [
    "**데이터프레임으로 변경**"
   ]
  },
  {
   "cell_type": "code",
   "execution_count": 18,
   "id": "38e665ea",
   "metadata": {},
   "outputs": [
    {
     "data": {
      "text/html": [
       "<div>\n",
       "<style scoped>\n",
       "    .dataframe tbody tr th:only-of-type {\n",
       "        vertical-align: middle;\n",
       "    }\n",
       "\n",
       "    .dataframe tbody tr th {\n",
       "        vertical-align: top;\n",
       "    }\n",
       "\n",
       "    .dataframe thead th {\n",
       "        text-align: right;\n",
       "    }\n",
       "</style>\n",
       "<table border=\"1\" class=\"dataframe\">\n",
       "  <thead>\n",
       "    <tr style=\"text-align: right;\">\n",
       "      <th></th>\n",
       "      <th>Decision Tree</th>\n",
       "      <th>RandomForest</th>\n",
       "      <th>SVM</th>\n",
       "      <th>SGD</th>\n",
       "      <th>Logistic Regression</th>\n",
       "    </tr>\n",
       "  </thead>\n",
       "  <tbody>\n",
       "    <tr>\n",
       "      <th>accuracy</th>\n",
       "      <td>0.869444</td>\n",
       "      <td>0.988889</td>\n",
       "      <td>0.983333</td>\n",
       "      <td>0.969444</td>\n",
       "      <td>0.980556</td>\n",
       "    </tr>\n",
       "    <tr>\n",
       "      <th>precision</th>\n",
       "      <td>0.867171</td>\n",
       "      <td>0.987942</td>\n",
       "      <td>0.982039</td>\n",
       "      <td>0.969572</td>\n",
       "      <td>0.979716</td>\n",
       "    </tr>\n",
       "    <tr>\n",
       "      <th>recall</th>\n",
       "      <td>0.866751</td>\n",
       "      <td>0.988281</td>\n",
       "      <td>0.983201</td>\n",
       "      <td>0.968881</td>\n",
       "      <td>0.980333</td>\n",
       "    </tr>\n",
       "    <tr>\n",
       "      <th>f1-score</th>\n",
       "      <td>0.866373</td>\n",
       "      <td>0.988077</td>\n",
       "      <td>0.982549</td>\n",
       "      <td>0.968623</td>\n",
       "      <td>0.979849</td>\n",
       "    </tr>\n",
       "    <tr>\n",
       "      <th>support</th>\n",
       "      <td>360.000000</td>\n",
       "      <td>360.000000</td>\n",
       "      <td>360.000000</td>\n",
       "      <td>360.000000</td>\n",
       "      <td>360.000000</td>\n",
       "    </tr>\n",
       "  </tbody>\n",
       "</table>\n",
       "</div>"
      ],
      "text/plain": [
       "           Decision Tree  RandomForest         SVM         SGD  \\\n",
       "accuracy        0.869444      0.988889    0.983333    0.969444   \n",
       "precision       0.867171      0.987942    0.982039    0.969572   \n",
       "recall          0.866751      0.988281    0.983201    0.968881   \n",
       "f1-score        0.866373      0.988077    0.982549    0.968623   \n",
       "support       360.000000    360.000000  360.000000  360.000000   \n",
       "\n",
       "           Logistic Regression  \n",
       "accuracy              0.980556  \n",
       "precision             0.979716  \n",
       "recall                0.980333  \n",
       "f1-score              0.979849  \n",
       "support             360.000000  "
      ]
     },
     "execution_count": 18,
     "metadata": {},
     "output_type": "execute_result"
    }
   ],
   "source": [
    "df_data = pd.DataFrame(final_data)\n",
    "df_data"
   ]
  },
  {
   "cell_type": "markdown",
   "id": "67791b84",
   "metadata": {},
   "source": [
    "**데이터프레임 행/열 변경**"
   ]
  },
  {
   "cell_type": "code",
   "execution_count": 19,
   "id": "174eee53",
   "metadata": {},
   "outputs": [
    {
     "data": {
      "text/html": [
       "<div>\n",
       "<style scoped>\n",
       "    .dataframe tbody tr th:only-of-type {\n",
       "        vertical-align: middle;\n",
       "    }\n",
       "\n",
       "    .dataframe tbody tr th {\n",
       "        vertical-align: top;\n",
       "    }\n",
       "\n",
       "    .dataframe thead th {\n",
       "        text-align: right;\n",
       "    }\n",
       "</style>\n",
       "<table border=\"1\" class=\"dataframe\">\n",
       "  <thead>\n",
       "    <tr style=\"text-align: right;\">\n",
       "      <th></th>\n",
       "      <th>accuracy</th>\n",
       "      <th>precision</th>\n",
       "      <th>recall</th>\n",
       "      <th>f1-score</th>\n",
       "      <th>support</th>\n",
       "    </tr>\n",
       "  </thead>\n",
       "  <tbody>\n",
       "    <tr>\n",
       "      <th>Decision Tree</th>\n",
       "      <td>0.869444</td>\n",
       "      <td>0.867171</td>\n",
       "      <td>0.866751</td>\n",
       "      <td>0.866373</td>\n",
       "      <td>360.0</td>\n",
       "    </tr>\n",
       "    <tr>\n",
       "      <th>RandomForest</th>\n",
       "      <td>0.988889</td>\n",
       "      <td>0.987942</td>\n",
       "      <td>0.988281</td>\n",
       "      <td>0.988077</td>\n",
       "      <td>360.0</td>\n",
       "    </tr>\n",
       "    <tr>\n",
       "      <th>SVM</th>\n",
       "      <td>0.983333</td>\n",
       "      <td>0.982039</td>\n",
       "      <td>0.983201</td>\n",
       "      <td>0.982549</td>\n",
       "      <td>360.0</td>\n",
       "    </tr>\n",
       "    <tr>\n",
       "      <th>SGD</th>\n",
       "      <td>0.969444</td>\n",
       "      <td>0.969572</td>\n",
       "      <td>0.968881</td>\n",
       "      <td>0.968623</td>\n",
       "      <td>360.0</td>\n",
       "    </tr>\n",
       "    <tr>\n",
       "      <th>Logistic Regression</th>\n",
       "      <td>0.980556</td>\n",
       "      <td>0.979716</td>\n",
       "      <td>0.980333</td>\n",
       "      <td>0.979849</td>\n",
       "      <td>360.0</td>\n",
       "    </tr>\n",
       "  </tbody>\n",
       "</table>\n",
       "</div>"
      ],
      "text/plain": [
       "                     accuracy  precision    recall  f1-score  support\n",
       "Decision Tree        0.869444   0.867171  0.866751  0.866373    360.0\n",
       "RandomForest         0.988889   0.987942  0.988281  0.988077    360.0\n",
       "SVM                  0.983333   0.982039  0.983201  0.982549    360.0\n",
       "SGD                  0.969444   0.969572  0.968881  0.968623    360.0\n",
       "Logistic Regression  0.980556   0.979716  0.980333  0.979849    360.0"
      ]
     },
     "execution_count": 19,
     "metadata": {},
     "output_type": "execute_result"
    }
   ],
   "source": [
    "# .T(전치 행렬)도 가능\n",
    "df_final_data = df_data.transpose()\n",
    "df_final_data"
   ]
  },
  {
   "cell_type": "markdown",
   "id": "e59abe5b",
   "metadata": {},
   "source": [
    "**데이터프레임 시각화**"
   ]
  },
  {
   "cell_type": "markdown",
   "id": "d8d1aa61",
   "metadata": {},
   "source": [
    ": barplot사용 <br/>\n",
    "sns.barplot(x,y,data,..,)<br/>\n",
    "-data: DataFrame\n",
    "-x, y: 컬럼 참조"
   ]
  },
  {
   "cell_type": "code",
   "execution_count": 20,
   "id": "0688a7f0",
   "metadata": {},
   "outputs": [
    {
     "data": {
      "image/png": "[encoded data removed]",
      "text/plain": [
       "<Figure size 432x288 with 1 Axes>"
      ]
     },
     "metadata": {
      "needs_background": "light"
     },
     "output_type": "display_data"
    }
   ],
   "source": [
    "df_final_data.plot(kind='bar')\n",
    "plt.show()\n",
    "# sns.barplot(x = \"model_name\", y = \"score\", hue = 'class', data = df_final_data)"
   ]
  },
  {
   "cell_type": "markdown",
   "id": "327ff584",
   "metadata": {},
   "source": [
    ": support 열은 데이터를 평가 하기에 좋지 않은 열이므로 제거"
   ]
  },
  {
   "cell_type": "markdown",
   "id": "675d22db",
   "metadata": {},
   "source": [
    "**데이터프레임 내에 필요없는 컬럼 제거**"
   ]
  },
  {
   "cell_type": "code",
   "execution_count": 21,
   "id": "6693bf29",
   "metadata": {},
   "outputs": [
    {
     "data": {
      "text/html": [
       "<div>\n",
       "<style scoped>\n",
       "    .dataframe tbody tr th:only-of-type {\n",
       "        vertical-align: middle;\n",
       "    }\n",
       "\n",
       "    .dataframe tbody tr th {\n",
       "        vertical-align: top;\n",
       "    }\n",
       "\n",
       "    .dataframe thead th {\n",
       "        text-align: right;\n",
       "    }\n",
       "</style>\n",
       "<table border=\"1\" class=\"dataframe\">\n",
       "  <thead>\n",
       "    <tr style=\"text-align: right;\">\n",
       "      <th></th>\n",
       "      <th>accuracy</th>\n",
       "      <th>precision</th>\n",
       "      <th>recall</th>\n",
       "      <th>f1-score</th>\n",
       "    </tr>\n",
       "  </thead>\n",
       "  <tbody>\n",
       "    <tr>\n",
       "      <th>Decision Tree</th>\n",
       "      <td>0.869444</td>\n",
       "      <td>0.867171</td>\n",
       "      <td>0.866751</td>\n",
       "      <td>0.866373</td>\n",
       "    </tr>\n",
       "    <tr>\n",
       "      <th>RandomForest</th>\n",
       "      <td>0.988889</td>\n",
       "      <td>0.987942</td>\n",
       "      <td>0.988281</td>\n",
       "      <td>0.988077</td>\n",
       "    </tr>\n",
       "    <tr>\n",
       "      <th>SVM</th>\n",
       "      <td>0.983333</td>\n",
       "      <td>0.982039</td>\n",
       "      <td>0.983201</td>\n",
       "      <td>0.982549</td>\n",
       "    </tr>\n",
       "    <tr>\n",
       "      <th>SGD</th>\n",
       "      <td>0.969444</td>\n",
       "      <td>0.969572</td>\n",
       "      <td>0.968881</td>\n",
       "      <td>0.968623</td>\n",
       "    </tr>\n",
       "    <tr>\n",
       "      <th>Logistic Regression</th>\n",
       "      <td>0.980556</td>\n",
       "      <td>0.979716</td>\n",
       "      <td>0.980333</td>\n",
       "      <td>0.979849</td>\n",
       "    </tr>\n",
       "  </tbody>\n",
       "</table>\n",
       "</div>"
      ],
      "text/plain": [
       "                     accuracy  precision    recall  f1-score\n",
       "Decision Tree        0.869444   0.867171  0.866751  0.866373\n",
       "RandomForest         0.988889   0.987942  0.988281  0.988077\n",
       "SVM                  0.983333   0.982039  0.983201  0.982549\n",
       "SGD                  0.969444   0.969572  0.968881  0.968623\n",
       "Logistic Regression  0.980556   0.979716  0.980333  0.979849"
      ]
     },
     "execution_count": 21,
     "metadata": {},
     "output_type": "execute_result"
    }
   ],
   "source": [
    "del df_final_data['support']\n",
    "df_final_data"
   ]
  },
  {
   "cell_type": "code",
   "execution_count": 29,
   "id": "0a58fa66",
   "metadata": {},
   "outputs": [
    {
     "data": {
      "image/png": "[encoded data removed]",
      "text/plain": [
       "<Figure size 432x288 with 1 Axes>"
      ]
     },
     "metadata": {
      "needs_background": "light"
     },
     "output_type": "display_data"
    }
   ],
   "source": [
    "df_final_data.plot(kind = 'bar', ylim=0.85, rot=0)\n",
    "\n",
    "plt.show()"
   ]
  },
  {
   "cell_type": "markdown",
   "id": "c5f8d2f4",
   "metadata": {},
   "source": [
    "**최적 모델**"
   ]
  },
  {
   "cell_type": "markdown",
   "id": "2cf4f713",
   "metadata": {},
   "source": [
    "* accuracy를 놓고 보자면 random_forest 모델의 정확도가 가장 높게 나타났다.\n",
    "* digits 데이터를 놓고 보자면 다른 평가지표에 크게 영향을 받지 않으므로, 정확도만 평가지표로 놓고 봐도 무방할 듯 하다."
   ]
  }
 ],
 "metadata": {
  "kernelspec": {
   "display_name": "Python 3 (ipykernel)",
   "language": "python",
   "name": "python3"
  },
  "language_info": {
   "codemirror_mode": {
    "name": "ipython",
    "version": 3
   },
   "file_extension": ".py",
   "mimetype": "text/x-python",
   "name": "python",
   "nbconvert_exporter": "python",
   "pygments_lexer": "ipython3",
   "version": "3.9.7"
  }
 },
 "nbformat": 4,
 "nbformat_minor": 5
}
