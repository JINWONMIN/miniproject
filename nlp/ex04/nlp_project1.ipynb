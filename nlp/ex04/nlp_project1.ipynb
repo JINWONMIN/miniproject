{
 "cells": [
  {
   "cell_type": "markdown",
   "id": "db3e4a8b",
   "metadata": {},
   "source": [
    "## Ex.04 자연어 처리 실습 1"
   ]
  },
  {
   "cell_type": "markdown",
   "id": "d51d250b",
   "metadata": {},
   "source": [
    "**import**"
   ]
  },
  {
   "cell_type": "code",
   "execution_count": 1,
   "id": "e958a6c1",
   "metadata": {},
   "outputs": [
    {
     "name": "stdout",
     "output_type": "stream",
     "text": [
      "1\n"
     ]
    }
   ],
   "source": [
    "import os\n",
    "import glob\n",
    "import re\n",
    "import matplotlib.pyplot as plt\n",
    "import numpy as np\n",
    "\n",
    "import tensorflow as tf\n",
    "from sklearn.model_selection import train_test_split\n",
    "from nltk.tokenize import word_tokenize\n",
    "from nltk.corpus import stopwords\n",
    "from collections import Counter\n",
    "import nltk\n",
    "print(1)"
   ]
  },
  {
   "cell_type": "markdown",
   "id": "936dbaba",
   "metadata": {},
   "source": [
    "### 1. 데이터 읽어오기"
   ]
  },
  {
   "cell_type": "code",
   "execution_count": 2,
   "id": "c7d07823",
   "metadata": {},
   "outputs": [
    {
     "name": "stdout",
     "output_type": "stream",
     "text": [
      "데이터 크기: 187088\n",
      "Examples:\n",
      " [\"Now I've heard there was a secret chord\", 'That David played, and it pleased the Lord', \"But you don't really care for music, do you?\", 'It goes like this', 'The fourth, the fifth', 'The minor fall, the major lift', 'The baffled king composing Hallelujah Hallelujah', 'Hallelujah', 'Hallelujah', 'Hallelujah Your faith was strong but you needed proof']\n"
     ]
    }
   ],
   "source": [
    "\n",
    "txt_file_path = os.getenv('HOME')+'/aiffel/lyricist/data/lyrics/*'\n",
    "\n",
    "txt_list = glob.glob(txt_file_path)\n",
    "\n",
    "raw_corpus = []\n",
    "\n",
    "# 여러개의 txt 파일을 모두 읽어서 raw_corpus 에 담습니다.\n",
    "for txt_file in txt_list:\n",
    "    with open(txt_file, \"r\") as f:\n",
    "        raw = f.read().splitlines()\n",
    "        raw_corpus.extend(raw)\n",
    "\n",
    "print(\"데이터 크기:\", len(raw_corpus))\n",
    "print(\"Examples:\\n\", raw_corpus[:10])"
   ]
  },
  {
   "cell_type": "markdown",
   "id": "33960709",
   "metadata": {},
   "source": [
    "### 2. 데이터 확인"
   ]
  },
  {
   "cell_type": "code",
   "execution_count": 3,
   "id": "d5d7c2f5",
   "metadata": {},
   "outputs": [
    {
     "name": "stdout",
     "output_type": "stream",
     "text": [
      "[]\n"
     ]
    }
   ],
   "source": [
    "# : 확인\n",
    "a = filter(lambda x: x == \":\" , raw_corpus)\n",
    "print(list(a))"
   ]
  },
  {
   "cell_type": "code",
   "execution_count": 4,
   "id": "1b006e33",
   "metadata": {},
   "outputs": [
    {
     "name": "stdout",
     "output_type": "stream",
     "text": [
      "11102\n"
     ]
    },
    {
     "data": {
      "text/plain": [
       "['', '', '', '', '']"
      ]
     },
     "execution_count": 4,
     "metadata": {},
     "output_type": "execute_result"
    }
   ],
   "source": [
    "# 공백 확인\n",
    "cnt = []\n",
    "count = 0\n",
    "for sentence in raw_corpus:\n",
    "    if len(sentence) == 0:\n",
    "        count += 1\n",
    "        cnt.append(sentence)\n",
    "print(count)\n",
    "cnt[:5]"
   ]
  },
  {
   "cell_type": "code",
   "execution_count": 5,
   "id": "3ea5d390",
   "metadata": {},
   "outputs": [
    {
     "name": "stdout",
     "output_type": "stream",
     "text": [
      "Now I've heard there was a secret chord\n",
      "That David played, and it pleased the Lord\n",
      "But you don't really care for music, do you?\n",
      "It goes like this\n",
      "The fourth, the fifth\n",
      "The minor fall, the major lift\n",
      "The baffled king composing Hallelujah Hallelujah\n",
      "Hallelujah\n",
      "Hallelujah\n",
      "Hallelujah Your faith was strong but you needed proof\n",
      "You saw her bathing on the roof\n",
      "Her beauty and the moonlight overthrew her\n",
      "She tied you\n",
      "To a kitchen chair\n",
      "She broke your throne, and she cut your hair\n",
      "And from your lips she drew the Hallelujah Hallelujah\n",
      "Hallelujah\n",
      "Hallelujah\n",
      "Hallelujah You say I took the name in vain\n",
      "I don't even know the name\n",
      "But if I did, well really, what's it to you?\n",
      "There's a blaze of light\n",
      "In every word\n",
      "It doesn't matter which you heard\n",
      "The holy or the broken Hallelujah Hallelujah\n",
      "Hallelujah\n",
      "Hallelujah\n",
      "Hallelujah I did my best, it wasn't much\n",
      "I couldn't feel, so I tried to touch\n",
      "I've told the truth, I didn't come to fool you\n",
      "And even though\n",
      "It all went wrong\n",
      "I'll stand before the Lord of Song\n",
      "With nothing on my tongue but Hallelujah Hallelujah\n",
      "Hallelujah\n",
      "Hallelujah\n",
      "Hallelujah Hallelujah\n",
      "Hallelujah\n",
      "Hallelujah\n",
      "Hallelujah Hallelujah\n",
      "Hallelujah\n",
      "Hallelujah\n",
      "Hallelujah Hallelujah\n",
      "Hallelujah\n",
      "Hallelujah\n",
      "Hallelujah\n",
      "Hallelujah Suzanne takes you down to her place near the river\n",
      "You can hear the boats go by, you can spend the night forever\n",
      "And you know that she's half-crazy but that's why you want to be there\n",
      "And she feeds you tea and oranges that come all the way from China\n",
      "And just when you mean to tell her that you have no love to give her\n",
      "Then he gets you on her wavelength\n",
      "And she lets the river answer that you've always been her lover And you want to travel with her, and you want to travel blind\n",
      "And you know that she will trust you\n",
      "For you've touched her perfect body with your mind And Jesus was a sailor when he walked upon the water\n",
      "And he spent a long time watching from his lonely wooden tower\n",
      "And when he knew for certain only drowning men could see him\n",
      "He said all men will be sailors then until the sea shall free them\n",
      "But he himself was broken, long before the sky would open\n",
      "Forsaken, almost human, he sank beneath your wisdom like a stone And you want to travel with him, and you want to travel blind\n",
      "And you think you maybe you'll trust him\n",
      "For he's touched your perfect body with her mind Now, Suzanne takes your hand and she leads you to the river\n",
      "She's wearing rags and feathers from Salvation Army counters\n",
      "And the sun pours down like honey on our lady of the harbor\n",
      "And she shows you where to look among the garbage and the flowers\n",
      "There are heroes in the seaweed, there are children in the morning\n",
      "They are leaning out for love and they wil lean that way forever\n",
      "While Suzanne holds her mirror And you want to travel with her, and you want to travel blind\n",
      "And you know that you can trust her\n",
      "For she's touched your perfect body with her mind Everybody knows that the dice are loaded\n",
      "Everybody rolls with their fingers crossed\n",
      "Everybody knows the war is over\n",
      "Everybody knows the good guys lost\n",
      "Everybody knows the fight was fixed\n",
      "The poor stay poor, the rich get rich\n",
      "That's how it goes\n",
      "Everybody knows Everybody knows that the boat is leaking\n",
      "Everybody knows that the captain lied\n",
      "Everybody got this broken feeling\n",
      "Like their father or their dog just died\n",
      "Everybody talking to their pockets\n",
      "Everybody wants a box of chocolates\n",
      "And a long-stem rose\n",
      "Everybody knows Everybody knows that you love me baby\n",
      "Everybody knows that you really do\n",
      "Everybody knows that you've been faithful\n",
      "Ah, give or take a night or two\n",
      "Everybody knows you've been discreet\n",
      "But there were so many people you just had to meet\n",
      "Without your clothes\n",
      "And everybody knows Everybody knows, everybody knows\n",
      "That's how it goes\n",
      "Everybody knows Everybody knows, everybody knows\n",
      "That's how it goes\n",
      "Everybody knows And everybody knows that it's now or never\n",
      "Everybody knows that it's me or you\n",
      "And everybody knows that you live forever\n",
      "Ah, when you've done a line or two\n",
      "Everybody knows the deal is rotten\n",
      "Old Black Joe's still pickin' cotton\n",
      "For your ribbons and bows\n",
      "And everybody knows And everybody knows that the Plague is coming\n",
      "Everybody knows that it's moving fast\n",
      "Everybody knows that the naked man and woman\n",
      "Are just a shining artifact of the past\n",
      "Everybody knows the scene is dead\n",
      "But there's gonna be a meter on your bed\n",
      "That will disclose\n",
      "What everybody knows And everybody knows that you're in trouble\n",
      "Everybody knows what you've been through\n",
      "From the bloody cross on top of Calvary\n",
      "To the beach of Malibu\n",
      "Everybody knows it's coming apart\n",
      "Take one last look at this Sacred Heart\n",
      "Before it blows\n",
      "And everybody knows Everybody knows, everybody knows\n",
      "That's how it goes\n",
      "Everybody knows Everybody knows, everybody knows\n",
      "That's how it goes\n",
      "Everybody knows Everybody knows, everybody knows\n",
      "That's how it goes\n",
      "Everybody knows Everybody knows Dance me to your beauty with a burning violin\n",
      "Dance me through the panic till I'm gathered safely in\n",
      "Lift me like an olive branch and be my homeward dove\n",
      "Dance me to the end of love\n",
      "Dance me to the end of love Oh, let me see your beauty when the witnesses are gone\n",
      "Let me feel you moving like they do in Babylon\n",
      "Show me slowly what I only know the limits of\n",
      "Dance me to the end of love\n",
      "Dance me to the end of love Dance me to the wedding now, dance me on and on\n",
      "Dance me very tenderly and dance me very long\n",
      "We're both of us beneath our love, we're both of us above\n",
      "Dance me to the end of love\n",
      "Dance me to the end of love Dance me to the children who are asking to be born\n",
      "Dance me through the curtains that our kisses have outworn\n",
      "Raise a tent of shelter now, though every thread is torn\n",
      "Dance me to the end of love Dance me to your beauty with a burning violin\n",
      "Dance me through the panic till I'm gathered safely in\n",
      "Touch me with your naked hand or touch me with your glove\n",
      "Dance me to the end of love\n",
      "Dance me to the end of love\n",
      "Dance me to the end of love Now I've heard there was a secret chord\n",
      "That David played, and it pleased the Lord\n",
      "But you don't really care for music, do you?\n",
      "It goes like this\n",
      "The fourth, the fifth\n",
      "The minor fall, the major lift\n",
      "The baffled king composing Hallelujah Hallelujah\n",
      "Hallelujah\n",
      "Hallelujah\n",
      "Hallelujah Your faith was strong but you needed proof\n",
      "You saw her bathing on the roof\n",
      "Her beauty and the moonlight overthrew her\n",
      "She tied you\n",
      "To a kitchen chair\n",
      "She broke your throne, and she cut your hair\n",
      "And from your lips she drew the Hallelujah Hallelujah\n",
      "Hallelujah\n",
      "Hallelujah\n",
      "Hallelujah You say I took the name in vain\n",
      "I don't even know the name\n",
      "But if I did, well really, what's it to you?\n",
      "There's a blaze of light\n",
      "In every word\n",
      "It doesn't matter which you heard\n",
      "The holy or the broken Hallelujah Hallelujah\n",
      "Hallelujah\n",
      "Hallelujah\n",
      "Hallelujah I did my best, it wasn't much\n",
      "I couldn't feel, so I tried to touch\n",
      "I've told the truth, I didn't come to fool you\n",
      "And even though\n",
      "It all went wrong\n",
      "I'll stand before the Lord of Song\n",
      "With nothing on my tongue but Hallelujah Hallelujah\n",
      "Hallelujah\n",
      "Hallelujah\n",
      "Hallelujah Hallelujah\n",
      "Hallelujah\n",
      "Hallelujah\n",
      "Hallelujah Hallelujah\n",
      "Hallelujah\n",
      "Hallelujah\n",
      "Hallelujah Hallelujah\n",
      "Hallelujah\n",
      "Hallelujah\n",
      "Hallelujah\n",
      "Hallelujah Suzanne takes you down to her place near the river\n",
      "You can hear the boats go by, you can spend the night forever\n",
      "And you know that she's half-crazy but that's why you want to be there\n",
      "And she feeds you tea and oranges that come all the way from China\n",
      "And just when you mean to tell her that you have no love to give her\n",
      "Then he gets you on her wavelength\n",
      "And she lets the river answer that you've always been her lover And you want to travel with her, and you want to travel blind\n",
      "And you know that she will trust you\n",
      "For you've touched her perfect body with your mind And Jesus was a sailor when he walked upon the water\n",
      "And he spent a long time watching from his lonely wooden tower\n",
      "And when he knew for certain only drowning men could see him\n",
      "He said all men will be sailors then until the sea shall free them\n",
      "But he himself was broken, long before the sky would open\n",
      "Forsaken, almost human, he sank beneath your wisdom like a stone And you want to travel with him, and you want to travel blind\n",
      "And you think you maybe you'll trust him\n",
      "For he's touched your perfect body with her mind Now, Suzanne takes your hand and she leads you to the river\n",
      "She's wearing rags and feathers from Salvation Army counters\n",
      "And the sun pours down like honey on our lady of the harbor\n",
      "And she shows you where to look among the garbage and the flowers\n",
      "There are heroes in the seaweed, there are children in the morning\n",
      "They are leaning out for love and they wil lean that way forever\n",
      "While Suzanne holds her mirror And you want to travel with her, and you want to travel blind\n",
      "And you know that you can trust her\n",
      "For she's touched your perfect body with her mind Everybody knows that the dice are loaded\n",
      "Everybody rolls with their fingers crossed\n",
      "Everybody knows the war is over\n",
      "Everybody knows the good guys lost\n",
      "Everybody knows the fight was fixed\n",
      "The poor stay poor, the rich get rich\n",
      "That's how it goes\n",
      "Everybody knows Everybody knows that the boat is leaking\n",
      "Everybody knows that the captain lied\n",
      "Everybody got this broken feeling\n",
      "Like their father or their dog just died\n",
      "Everybody talking to their pockets\n",
      "Everybody wants a box of chocolates\n",
      "And a long-stem rose\n",
      "Everybody knows Everybody knows that you love me baby\n",
      "Everybody knows that you really do\n",
      "Everybody knows that you've been faithful\n",
      "Ah, give or take a night or two\n",
      "Everybody knows you've been discreet\n",
      "But there were so many people you just had to meet\n",
      "Without your clothes\n",
      "And everybody knows Everybody knows, everybody knows\n",
      "That's how it goes\n",
      "Everybody knows Everybody knows, everybody knows\n",
      "That's how it goes\n",
      "Everybody knows And everybody knows that it's now or never\n",
      "Everybody knows that it's me or you\n",
      "And everybody knows that you live forever\n",
      "Ah, when you've done a line or two\n",
      "Everybody knows the deal is rotten\n",
      "Old Black Joe's still pickin' cotton\n",
      "For your ribbons and bows\n",
      "And everybody knows And everybody knows that the Plague is coming\n",
      "Everybody knows that it's moving fast\n",
      "Everybody knows that the naked man and woman\n",
      "Are just a shining artifact of the past\n",
      "Everybody knows the scene is dead\n",
      "But there's gonna be a meter on your bed\n",
      "That will disclose\n",
      "What everybody knows And everybody knows that you're in trouble\n",
      "Everybody knows what you've been through\n",
      "From the bloody cross on top of Calvary\n",
      "To the beach of Malibu\n",
      "Everybody knows it's coming apart\n",
      "Take one last look at this Sacred Heart\n",
      "Before it blows\n",
      "And everybody knows Everybody knows, everybody knows\n",
      "That's how it goes\n",
      "Everybody knows Everybody knows, everybody knows\n",
      "That's how it goes\n",
      "Everybody knows Everybody knows, everybody knows\n",
      "That's how it goes\n",
      "Everybody knows Everybody knows Dance me to your beauty with a burning violin\n",
      "Dance me through the panic till I'm gathered safely in\n",
      "Lift me like an olive branch and be my homeward dove\n",
      "Dance me to the end of love\n",
      "Dance me to the end of love Oh, let me see your beauty when the witnesses are gone\n",
      "Let me feel you moving like they do in Babylon\n",
      "Show me slowly what I only know the limits of\n",
      "Dance me to the end of love\n",
      "Dance me to the end of love Dance me to the wedding now, dance me on and on\n",
      "Dance me very tenderly and dance me very long\n",
      "We're both of us beneath our love, we're both of us above\n",
      "Dance me to the end of love\n",
      "Dance me to the end of love Dance me to the children who are asking to be born\n",
      "Dance me through the curtains that our kisses have outworn\n",
      "Raise a tent of shelter now, though every thread is torn\n",
      "Dance me to the end of love Dance me to your beauty with a burning violin\n",
      "Dance me through the panic till I'm gathered safely in\n",
      "Touch me with your naked hand or touch me with your glove\n",
      "Dance me to the end of love\n",
      "Dance me to the end of love\n",
      "Dance me to the end of love I saw jesus on the cross on a hill called calvary\n",
      "\"do you hate mankind for what they done to you? \"\n",
      "He said, \"talk of love not hate, things to do - it's getting late.\n",
      "I've so little time and I'm only passing through.\" Passing through, passing through.\n",
      "Sometimes happy, sometimes blue,\n",
      "Glad that I ran into you.\n",
      "Tell the people that you saw me passing through. I saw adam leave the garden with an apple in his hand,\n",
      "I said \"now you're out, what are you going to do? \"\n",
      "\"plant some crops and pray for rain, maybe raise a little cane.\n",
      "I'm an orphan now, and I'm only passing through.\" Passing through, passing through ... I was with washington at valley ford, shivering in the snow.\n",
      "I said, \"how come the men here suffer like they do? \"\n",
      "\"men will suffer, men will fight, even die for what is right\n",
      "Even though they know they're only passing through\" Passing through, passing through ... I was with franklin roosevelt's side on the night before he died.\n",
      "He said, \"one world must come out of world war two\" (ah, the fool)\n",
      "\"yankee, russian, white or tan,\" he said, \"a man is still a man.\n",
      "We're all on one road, and we're only passing through.\" Passing through, passing through ... (let's do it one more time) Passing through, passing through ... The birds they sang\n",
      "At the break of day\n",
      "Start again\n",
      "I heard them say\n",
      "Don't dwell on what\n",
      "Has passed away\n",
      "Or what is yet to be\n",
      "Yeah the wars they will\n",
      "Be fought again\n",
      "The holy dove\n",
      "She will be caught again\n",
      "Bought and sold\n",
      "And bought again\n",
      "The dove is never free Ring the bells (ring the bells) that still can ring\n",
      "Forget your perfect offering\n",
      "There is a crack in everything (there is a crack in everything)\n",
      "That's how the light gets in We asked for signs\n",
      "The signs were sent\n",
      "The birth betrayed\n",
      "The marriage spent\n",
      "Yeah the widowhood\n",
      "Of every government\n",
      "Signs for all to see I can't run no more\n",
      "With that lawless crowd\n",
      "While the killers in high places\n",
      "Say their prayers out loud\n",
      "But they've summoned, they've summoned up\n",
      "A thundercloud\n",
      "And they're going to hear from me (Ring, ring, ring, ring)\n",
      "Ring the bells that still can ring Forget your perfect offering\n",
      "There is a crack, a crack in everything (there is a crack in everything)\n",
      "That's how the light gets in You can add up the parts\n",
      "You won't have the sum\n",
      "You can strike up the march\n",
      "There is no drum\n",
      "Every heart, every heart to love will come\n",
      "But like a refugee (Ring, ring, ring, ring)\n",
      "Ring the bells that still can ring\n",
      "Forget your perfect offering\n",
      "There is a crack, a crack in everything (there is a crack in everything)\n",
      "That's how the light gets in\n",
      "Ring the bells that still can ring (ring the bells that still can ring)\n",
      "Forget your perfect offering\n",
      "There is a crack, a crack in everything (there is a crack in everything)\n",
      "That's how the light gets in\n",
      "That's how the light gets in\n",
      "That's how the light gets in Come over to the window, my little darling\n",
      "I'd like to try to read your palm\n",
      "I used to think I was some kind of Gypsy boy\n",
      "Before I let you take me home Now so long, Marianne\n",
      "It's time that we began to laugh\n",
      "And cry and cry and laugh about it all again Well, you know that I love to live with you\n",
      "But you make me forget so very much\n",
      "I forget to pray for the angels\n",
      "And then the angels forget to pray for us Now so long, Marianne\n",
      "It's time that we began to laugh\n",
      "And cry and cry and laugh about it all again We met when we were almost young\n",
      "Deep in the green lilac park\n",
      "You held on to me like I was a crucifix\n",
      "As we went kneeling through the dark Oh, so long, Marianne\n",
      "It's time that we began to laugh\n",
      "And cry and cry and laugh about it all again Your letters, they all say that you're beside me now\n",
      "Then why do I feel alone?\n",
      "I'm standing on a ledge and your fine spider web\n",
      "Is fastening my ankle to a stone Now so long, Marianne\n",
      "It's time that we began to laugh\n",
      "And cry and cry and laugh about it all again For now I need your hidden love\n",
      "I'm cold as a new razorblade\n",
      "You left when I told you I was curious\n",
      "I never said that I was brave Oh, so long, Marianne\n",
      "It's time that we began to laugh\n",
      "And cry and cry and laugh about it all again Oh, you are really such a pretty one\n",
      "I see you've gone and changed your name again\n",
      "And just when I climbed this whole mountainside\n",
      "To wash my eyelids in the rain Oh, so long, Marianne\n",
      "It's time that we began to laugh\n",
      "And cry and cry and laugh about it all again I loved you in the morning, our kisses deep and warm\n",
      "Your hair upon the pillow like a sleepy golden storm\n",
      "Yes, many loved before us, I know that we are not new\n",
      "In city and in forest they smiled like me and you\n",
      "But now it's come to distances and both of us must try\n",
      "Your eyes are soft with sorrow\n",
      "Hey, that's no way to say goodbye I'm not looking for another as I wander in my time\n",
      "Walk me to the corner, our steps will always rhyme\n",
      "You know my love goes with you as your love stays with me\n",
      "It's just the way it changes, like the shoreline and the sea\n",
      "But let's not talk of love or chains and things we can't untie\n",
      "Your eyes are soft with sorrow\n",
      "Hey, that's no way to say goodbye I loved you in the morning, our kisses deep and warm\n",
      "Your hair upon the pillow like a sleepy golden storm\n",
      "Yes, many loved before us, I know that we are not new\n",
      "In city and in forest they smiled like me and you\n",
      "But let's not talk of love or chains and things we can't untie\n",
      "Your eyes are soft with sorrow\n",
      "Hey, that's no way to say goodbye You came to me this morning\n",
      "And you handled me like meat\n",
      "You?d have to be a man to know\n",
      "How good that feels, how sweet My mirror twin, my next of kin\n",
      "I?d know you in my sleep\n",
      "And who but you would take me in\n",
      "A thousand kisses deep I loved you when you opened\n",
      "Like a lily to the heat\n",
      "You see I?m just another snowman\n",
      "Standing in the rain and sleet Who loved you with his frozen love\n",
      "His secondhand physique\n",
      "With all he is and all he was\n",
      "A thousand kisses deep I know you had to lie to me\n",
      "I know you had to cheat\n",
      "To pose all hot and high\n",
      "Behind the veils of sheer deceit Our perfect porn aristocrat\n",
      "So elegant and cheap\n",
      "I?m old but I?m still into that\n",
      "A thousand kisses deep I?m good at love, I?m good at hate\n",
      "It?s in between I freeze\n",
      "Been working out but it?s too late\n",
      "(It?s been too late for years) But you look good, you really do\n",
      "They love you on the street\n",
      "If you were here I?d kneel for you\n",
      "A thousand kisses deep The autumn moved across your skin\n",
      "Got something in my eye\n",
      "A light that doesn?t need to live\n",
      "And doesn?t need to die A riddle in the book of love\n",
      "Obscure and obsolete\n",
      "And witnessed here in time and blood\n",
      "A thousand kisses deep But I?m still working with the wine\n",
      "Still dancing cheek to cheek\n",
      "The band is playing Auld Lang Syne\n",
      "But the heart will not retreat I ran with Diz, I sang with Ray\n",
      "I never had their sweet\n",
      "But once or twice they let me play\n",
      "A thousand kisses deep I loved you when you opened\n",
      "Like a lily to the heat\n",
      "You see I?m just another snowman\n",
      "Standing in the rain and sleet Who loved you with his frozen love\n",
      "His secondhand physique\n",
      "With all he is and all he was\n",
      "A thousand kisses deep But you don?t need to hear me now\n",
      "And every word I speak\n",
      "It counts against me anyhow\n",
      "A thousand kisses deep Like a bird on the wire\n",
      "Like a drunk in a midnight choir\n",
      "I have tried in my way to be free Like a worm on a hook\n",
      "Like a knight from some old-fashioned book\n",
      "I have saved all my ribbons for thee\n",
      "If I, if I have been unkind\n",
      "I hope that you can just let it go by\n",
      "If I, if I have been untrue\n",
      "I hope you know it was never to you For like a baby, stillborn\n",
      "Like a beast with his horn\n",
      "I have torn everyone who reached out for me\n",
      "But I swear by this song\n",
      "And by all that I have done wrong\n",
      "I will make it all up to thee I saw a beggar leaning on his wooden crutch\n",
      "He said to me, \"you must not ask for so much\"\n",
      "And a pretty woman leaning in her darkened door\n",
      "She cried to me, \"hey, why not ask for more?\"\n",
      "Oh, like a bird on the wire\n",
      "Like a drunk in a midnight choir\n",
      "I have tried in my way to be free It's true that all the men you knew were dealers\n",
      "Who said they were through with dealing\n",
      "Every time you gave them shelter\n",
      "I know that kind of man, it's hard to hold the hand of anyone\n",
      "Who is reaching for the sky just to surrender\n",
      "Who is reaching for the sky just to surrender And then sweeping up the jokers that he left behind\n",
      "You find he did not leave you very much, not even laughter\n",
      "Like any dealer he was watching for the card that is so high and wild\n",
      "He'll never need to deal another\n",
      "He was just some Joseph looking for a manger\n",
      "He was just some Joseph looking for a manger And then leaning on your window sill\n",
      "He'll say one day you caused his will\n",
      "To weaken with your love and warmth and shelter\n",
      "And then taking from his wallet\n",
      "An old schedule of trains, he'll say\n",
      "I told you when I came I was a stranger But now another stranger seems\n",
      "To want you to ignore his dreams\n",
      "As though they were the burden of some other\n",
      "Oh, you've seen that man before\n",
      "His golden arm dispatching cards\n",
      "But now it's rusted from the elbows to the finger\n",
      "And he wants to trade the game he plays for shelter\n",
      "Yes, he wants to trade the game he knows for shelter Ah, you hate to see another tired man\n",
      "Lay down his hand like he was giving up the holy game of poker\n",
      "And while he talks his dreams to sleep you notice there's a highway\n",
      "That is curling up like smoke above his shoulder\n",
      "It's curling just like smoke above his shoulder You tell him to come in sit down\n",
      "But something makes you turn around\n",
      "The door is open you can't close your shelter\n",
      "You try the handle of the road, it opens, do not be afraid\n",
      "It's you my love, you who are the stranger\n",
      "It is you my love, you who are the stranger Well, I've been waiting, I was sure\n",
      "We'd meet between the trains we're waiting for\n",
      "I think it's time to board another\n",
      "Please understand, I never had a secret chart\n",
      "To get me to the heart of this or any other matter\n",
      "Well, he talks like this you don't know what he's after\n",
      "When he speaks like this you don't know what he's after Let's meet tomorrow if you choose\n",
      "Upon the shore, beneath the bridge\n",
      "That they are building on some endless river\n",
      "Then he leaves the platform for the sleeping car that's warm\n",
      "You realize, he's only advertising one more shelter\n",
      "And it comes to you, he never was a stranger\n",
      "And you say okay, the bridge or someplace later And then sweeping up the jokers that he left behind\n",
      "You find he did not leave you very much, not even laughter\n",
      "Like any dealer he was watching for the card that is so high and wild\n",
      "He'll never need to deal another\n",
      "He was just some Joseph looking for a manger\n",
      "He was just some Joseph looking for a manger And then leaning on your window sill\n",
      "He'll say one day you caused his will\n",
      "To weaken with your love and warmth and shelter\n",
      "And then taking from his wallet\n",
      "An old schedule of trains, he'll say\n",
      "I told you when I came I was a stranger\n",
      "I told you when I came I was a stranger\n",
      "I told you when I came I was a stranger\n",
      "I told you when I came I was a stranger Give me back my broken night\n",
      "My mirrored room, my secret life\n",
      "It's lonely here,\n",
      "There's no one left to torture\n",
      "Give me absolute control\n",
      "Over every living soul\n",
      "And lie beside me, baby\n",
      "That's an order Give me crack and anal sex\n",
      "Take the only tree that's left\n",
      "And stuff it up the hole\n",
      "In your culture\n",
      "Give me back the Berlin wall\n",
      "Give me Stalin and St. Paul\n",
      "I've seen the future, brother\n",
      "It is murder Things are going to slide, slide in all directions\n",
      "Won't be nothing\n",
      "Nothing you can measure anymore\n",
      "The blizzard, the blizzard of the world\n",
      "Has crossed the threshold\n",
      "And it has overturned\n",
      "The order of the soul\n",
      "When they said (they said) repent (repent), repent (repent)\n",
      "I wonder what they meant\n",
      "When they said (they said) repent (repent), repent (repent)\n",
      "I wonder what they meant\n",
      "When they said (they said) repent (repent), repent (repent)\n",
      "I wonder what they meant You don't know me from the wind\n",
      "You never will, you never did\n",
      "I'm the little Jew\n",
      "Who wrote the Bible\n",
      "I've seen the nations rise and fall\n",
      "I've heard their stories, heard them all\n",
      "But love's the only engine of survival\n",
      "Your servant here, he has been told\n",
      "To say it clear, to say it cold\n",
      "It's over, it ain't going\n",
      "Any further\n",
      "And now the wheels of heaven stop\n",
      "You feel the devil's riding crop\n",
      "Get ready for the future\n",
      "It is murder Things are going to slide\n",
      "Slide in all directions\n",
      "Won't be nothing\n",
      "Nothing you can measure anymore\n",
      "The blizzard, the blizzard of the world\n",
      "Has crossed the threshold\n",
      "And it has overturned\n",
      "The order of the soul\n",
      "When they said (they said) repent (repent), repent (repent)\n",
      "I wonder what they meant\n",
      "When they said (they said) repent (repent), repent (repent)\n",
      "I wonder what they meant\n",
      "When they said (they said) repent (repent), repent (repent)\n",
      "I wonder what they meant There'll be the breaking of the ancient\n",
      "Western code\n",
      "Your private life will suddenly explode\n",
      "There'll be phantoms\n",
      "There'll be fires on the road\n",
      "And the white man dancing\n",
      "You'll see a woman\n",
      "Hanging upside down\n",
      "Her features covered by her fallen gown\n",
      "And all the lousy little poets\n",
      "Coming round\n",
      "Tryin' to sound like Charlie Manson\n",
      "And the white man dancin' Give me back the Berlin wall\n",
      "Give me Stalin and St. Paul\n",
      "Give me Christ or give me Hiroshima\n",
      "Destroy another fetus now\n",
      "We don't like children anyhow\n",
      "I've seen the future, baby\n",
      "it is murder Things are going to slide, slide in all directions\n",
      "Won't be nothing\n",
      "Nothing you can measure anymore\n",
      "The blizzard, the blizzard of the world\n",
      "Has crossed the threshold\n",
      "And it has overturned\n",
      "The order of the soul\n",
      "When they said (they said) repent (repent), repent (repent)\n",
      "I wonder what they meant\n",
      "When they said (they said) repent (repent), repent (repent)\n",
      "I wonder what they meant\n",
      "When they said (they said) repent (repent), repent (repent)\n",
      "I wonder what they meant When they said (they said) repent (repent), repent (repent) In my secret life\n",
      "In my secret life\n",
      "In my secret life\n",
      "In my secret life I saw you this morning\n",
      "You were moving so fast\n",
      "Can't seem to loosen my grip\n",
      "On the past\n"
     ]
    }
   ],
   "source": [
    "for idx, sentence in enumerate(raw_corpus):\n",
    "    if len(sentence) == 0: continue\n",
    "    if idx > 600: break   # 문장 600개만 확인.\n",
    "        \n",
    "    print(sentence)"
   ]
  },
  {
   "cell_type": "code",
   "execution_count": 6,
   "id": "d5293459",
   "metadata": {},
   "outputs": [
    {
     "data": {
      "text/plain": [
       "33"
      ]
     },
     "execution_count": 6,
     "metadata": {},
     "output_type": "execute_result"
    }
   ],
   "source": [
    "b = list(filter(lambda x: x == 'Hallelujah', raw_corpus))\n",
    "len(b)"
   ]
  },
  {
   "cell_type": "code",
   "execution_count": 41,
   "id": "c994814d",
   "metadata": {},
   "outputs": [
    {
     "name": "stderr",
     "output_type": "stream",
     "text": [
      "[nltk_data] Downloading package stopwords to /aiffel/nltk_data...\n",
      "[nltk_data]   Package stopwords is already up-to-date!\n",
      "[nltk_data] Downloading package punkt to /aiffel/nltk_data...\n",
      "[nltk_data]   Unzipping tokenizers/punkt.zip.\n"
     ]
    },
    {
     "data": {
      "text/plain": [
       "True"
      ]
     },
     "execution_count": 41,
     "metadata": {},
     "output_type": "execute_result"
    }
   ],
   "source": [
    "# nltk 모듈 활용\n",
    "nltk.download('stopwords')\n",
    "nltk.download('punkt')"
   ]
  },
  {
   "cell_type": "code",
   "execution_count": 38,
   "id": "af9d69f8",
   "metadata": {},
   "outputs": [
    {
     "data": {
      "text/plain": [
       "['i', 'me', 'my', 'myself', 'we', 'our', 'ours', 'ourselves', 'you', \"you're\"]"
      ]
     },
     "execution_count": 38,
     "metadata": {},
     "output_type": "execute_result"
    }
   ],
   "source": [
    "# 불용어 확인\n",
    "stopwords.words('english')[:10]"
   ]
  },
  {
   "cell_type": "code",
   "execution_count": null,
   "id": "13441f8c",
   "metadata": {},
   "outputs": [],
   "source": [
    "stop_words = set(stopwords.words('english'))\n",
    "\n",
    "word_tokens = word_tokenize(temp)\n",
    "\n",
    "result = []\n",
    "for w in word_tokens:\n",
    "    if w not in stop_words:\n",
    "        result.append(w)"
   ]
  },
  {
   "cell_type": "markdown",
   "id": "855c0a4e",
   "metadata": {},
   "source": [
    "* 데이터 정제 요소\n",
    "    * 알파벳을 소문자로 통일\n",
    "    * ''(공백) 문장 제거\n",
    "    * (ring, ring, ring, ring) 와 같은 코러스 부분 의태어, 의성어 제거\n",
    "    * 토큰의 개수가 15개를 초과하는 문장 제거 ( padding 조절차원)\n",
    "    * 불용어 처리\n",
    "    * 반복 문자 제거"
   ]
  },
  {
   "cell_type": "markdown",
   "id": "ee0e9e9e",
   "metadata": {},
   "source": [
    "### 3. 데이터 정제"
   ]
  },
  {
   "cell_type": "code",
   "execution_count": 22,
   "id": "9b9a4b73",
   "metadata": {},
   "outputs": [
    {
     "name": "stdout",
     "output_type": "stream",
     "text": [
      "<start> this is sample it's sentence. <end>\n"
     ]
    }
   ],
   "source": [
    "# 데이터 정제 함수 선언\n",
    "def preprocess_sentence(sentence):\n",
    "    sentence = sentence.lower().strip()   # 소문자로 변경 및 양쪽 공백 제거\n",
    "    sentence = re.sub(r'\\([^)]*\\)',\"\", sentence)    # ()와 안의 문자 제거\n",
    "    # sentence = re.sub(r\"([?\\'.!,¿])\", r\" \\1 \", sentence) # 특수 문자 양쪽에 공백 추가\n",
    "    sentence = re.sub(r'[\" \"]+ ', \" \", sentence)    # 여러개의 공백은 하나의 공백으로 치환\n",
    "    sentence = re.sub(r\"[^a-zA-Z?\\'.!,¿]+\", \" \", sentence)    # a-zA-Z?.!,¿가 아닌 모든 문자를 하나의 공백으로 치환\n",
    "    sentence = sentence.strip() # 다시 양쪽 공백 제거\n",
    "    \n",
    "    sentence = '<start> ' + sentence + ' <end>' # 문장 시작과 끝에 start, end 추가\n",
    "    return sentence\n",
    "\n",
    "# 필터링 체크\n",
    "print(preprocess_sentence(\"This @_is ;;;sample  it's  (ring)     sentence.\"))"
   ]
  },
  {
   "cell_type": "code",
   "execution_count": 31,
   "id": "9fcdad42",
   "metadata": {},
   "outputs": [
    {
     "data": {
      "text/plain": [
       "[\"<start> now i've heard there was a secret chord <end>\",\n",
       " '<start> that david played, and it pleased the lord <end>',\n",
       " \"<start> but you don't really care for music, do you? <end>\",\n",
       " '<start> it goes like this <end>',\n",
       " '<start> the fourth, the fifth <end>',\n",
       " '<start> the minor fall, the major lift <end>',\n",
       " '<start> the baffled king composing hallelujah hallelujah <end>',\n",
       " '<start> hallelujah <end>',\n",
       " '<start> hallelujah <end>',\n",
       " '<start> hallelujah your faith was strong but you needed proof <end>',\n",
       " '<start> you saw her bathing on the roof <end>',\n",
       " '<start> her beauty and the moonlight overthrew her <end>',\n",
       " '<start> she tied you <end>',\n",
       " '<start> to a kitchen chair <end>',\n",
       " '<start> she broke your throne, and she cut your hair <end>']"
      ]
     },
     "execution_count": 31,
     "metadata": {},
     "output_type": "execute_result"
    }
   ],
   "source": [
    "corpus = []\n",
    "\n",
    "for sentence in raw_corpus:\n",
    "    if len(sentence) == 0: continue   # \"\"인 문장 패스\n",
    "    if len(sentence.split(' ')) > 15: continue    # 토큰 개수 16개 이상의 문장 패스\n",
    "        \n",
    "    preprocessed_sentence = preprocess_sentence(sentence)\n",
    "    corpus.append(preprocessed_sentence)\n",
    "        \n",
    "\n",
    "corpus[:15]"
   ]
  },
  {
   "cell_type": "markdown",
   "id": "5ec37be6",
   "metadata": {},
   "source": [
    "**토큰화**"
   ]
  },
  {
   "cell_type": "code",
   "execution_count": 47,
   "id": "5411fc60",
   "metadata": {},
   "outputs": [
    {
     "name": "stdout",
     "output_type": "stream",
     "text": [
      "168528\n",
      "[[   2   46  138 ...    0    0    0]\n",
      " [   2   14 3572 ...    0    0    0]\n",
      " [   2    4 6533 ...    0    0    0]\n",
      " ...\n",
      " [   2  259 3076 ...    0    0    0]\n",
      " [   2  143   18 ... 1182    3    0]\n",
      " [   2    6  404 ...    0    0    0]] <keras_preprocessing.text.Tokenizer object at 0x7ff967c810a0>\n"
     ]
    }
   ],
   "source": [
    "def tokenize(corpus):\n",
    "    # 텐서플로우에서 제공하는 Tokenizer 패키지를 생성\n",
    "    tokenizer = tf.keras.preprocessing.text.Tokenizer(\n",
    "        num_words=13000,  # 전체 단어의 개수 \n",
    "        filters=' ',    # 별도로 전처리 로직을 추가할 수 있음. 이번에는 사용하지 안함\n",
    "        oov_token=\"<unk>\"  # out-of-vocabulary, 사전에 없었던 단어는 <unk> 처리\n",
    "    )\n",
    "    tokenizer.fit_on_texts(corpus)   # 구축한 corpus로부터 Tokenizer가 사전을 자동구축\n",
    "\n",
    "    # 이후 tokenizer를 활용하여 모델에 입력할 데이터셋을 구축\n",
    "    tensor = tokenizer.texts_to_sequences(corpus)   # tokenizer는 구축한 사전으로부터 corpus를 해석해 Tensor로 변환.\n",
    "   \n",
    "    for num in tensor:\n",
    "        if len(num) >= 29:\n",
    "            tensor = np.delete(tensor, num)\n",
    "            \n",
    "    print(len(tensor))\n",
    "    tensor = tf.keras.preprocessing.sequence.pad_sequences(tensor, padding='post',maxlen=15)  \n",
    "\n",
    "    print(tensor,tokenizer)\n",
    "    return tensor, tokenizer\n",
    "\n",
    "    \n",
    "tensor, tokenizer = tokenize(corpus)"
   ]
  },
  {
   "cell_type": "code",
   "execution_count": 48,
   "id": "7326f354",
   "metadata": {},
   "outputs": [
    {
     "name": "stdout",
     "output_type": "stream",
     "text": [
      "[   2   46  138  303   84   44    8 1066 8568    3    0    0    0    0]\n",
      "[  46  138  303   84   44    8 1066 8568    3    0    0    0    0    0]\n"
     ]
    }
   ],
   "source": [
    "src_input = tensor[:, :-1]\n",
    "tgt_input = tensor[:, 1:]\n",
    "\n",
    "\n",
    "print(src_input[0])\n",
    "print(tgt_input[0])"
   ]
  },
  {
   "cell_type": "markdown",
   "id": "239193a0",
   "metadata": {},
   "source": [
    "### 4. 평가 데이터셋 분리"
   ]
  },
  {
   "cell_type": "code",
   "execution_count": 49,
   "id": "2e5dc8d3",
   "metadata": {},
   "outputs": [],
   "source": [
    "enc_train, enc_val, dec_train, dec_val = train_test_split(src_input,\n",
    "                                                          tgt_input,\n",
    "                                                          train_size = 0.8)"
   ]
  },
  {
   "cell_type": "code",
   "execution_count": 50,
   "id": "1a833ea5",
   "metadata": {},
   "outputs": [
    {
     "name": "stdout",
     "output_type": "stream",
     "text": [
      "Source Train: (134822, 14)\n",
      "Target Train: (134822, 14)\n"
     ]
    }
   ],
   "source": [
    "print(\"Source Train:\", enc_train.shape)\n",
    "print(\"Target Train:\", dec_train.shape)"
   ]
  },
  {
   "cell_type": "markdown",
   "id": "5a01e4fc",
   "metadata": {},
   "source": [
    ": tokenize() 함수로 데이터를 tensor로 변환. \n",
    "<br/>\n",
    "이후 훈련 데이터와 평가 데이터(20%)로 분리.\n",
    "<br/>\n",
    "단어장 크기 12,000이상이라 진행."
   ]
  },
  {
   "cell_type": "code",
   "execution_count": 51,
   "id": "2c545a7c",
   "metadata": {},
   "outputs": [
    {
     "data": {
      "text/plain": [
       "<BatchDataset shapes: ((256, 14), (256, 14)), types: (tf.int32, tf.int32)>"
      ]
     },
     "execution_count": 51,
     "metadata": {},
     "output_type": "execute_result"
    }
   ],
   "source": [
    "# 데이터셋 객체 생성\n",
    "\n",
    "BUFFER_SIZE = len(src_input)\n",
    "BATCH_SIZE = 256\n",
    "steps_per_epoch = len(src_input) // BATCH_SIZE\n",
    "\n",
    "VOCAB_SIZE = tokenizer.num_words + 1   \n",
    "\n",
    "dataset = tf.data.Dataset.from_tensor_slices((src_input, tgt_input))\n",
    "dataset = dataset.shuffle(BUFFER_SIZE)\n",
    "dataset = dataset.batch(BATCH_SIZE, drop_remainder=True)\n",
    "dataset"
   ]
  },
  {
   "cell_type": "markdown",
   "id": "e577bbae",
   "metadata": {},
   "source": [
    "## 5. 인공지능 만들기"
   ]
  },
  {
   "cell_type": "code",
   "execution_count": 52,
   "id": "14f6fc1f",
   "metadata": {},
   "outputs": [],
   "source": [
    "class TextGenerator(tf.keras.Model):\n",
    "    def __init__(self, vocab_size, embedding_size, hidden_size):\n",
    "        super(TextGenerator, self).__init__()\n",
    "        \n",
    "        self.embedding = tf.keras.layers.Embedding(vocab_size, embedding_size)\n",
    "        self.rnn_1 = tf.keras.layers.LSTM(hidden_size, return_sequences=True)\n",
    "        self.rnn_2 = tf.keras.layers.LSTM(hidden_size, return_sequences=True)\n",
    "        self.drop  = tf.keras.layers.Dropout(0.5)\n",
    "        self.linear = tf.keras.layers.Dense(vocab_size)\n",
    "        \n",
    "    def call(self, x):\n",
    "        out = self.embedding(x)\n",
    "        out = self.rnn_1(out)\n",
    "        out = self.rnn_2(out)\n",
    "        out = self.drop(out)\n",
    "        out = self.linear(out)\n",
    "        \n",
    "        return out\n",
    "    \n",
    "embedding_size = 256\n",
    "hidden_size = 1024\n",
    "model = TextGenerator(tokenizer.num_words + 1, embedding_size , hidden_size)"
   ]
  },
  {
   "cell_type": "code",
   "execution_count": 53,
   "id": "e9e37500",
   "metadata": {},
   "outputs": [
    {
     "data": {
      "text/plain": [
       "<tf.Tensor: shape=(256, 14, 13001), dtype=float32, numpy=\n",
       "array([[[-1.74784182e-05, -3.31470583e-05, -1.76763351e-04, ...,\n",
       "          3.22089909e-05,  8.59614302e-05,  1.74894638e-04],\n",
       "        [-1.58717176e-05, -2.86091254e-05, -6.27323054e-04, ...,\n",
       "         -1.78841467e-04,  2.29909143e-04,  2.50941492e-04],\n",
       "        [-1.57054325e-04, -3.42455714e-05, -5.39890199e-04, ...,\n",
       "         -8.76109843e-05,  3.65030224e-04,  4.54130932e-04],\n",
       "        ...,\n",
       "        [ 1.97736663e-03, -8.72512581e-04,  2.72778794e-03, ...,\n",
       "          7.49204133e-04,  4.33484267e-04, -1.68539671e-04],\n",
       "        [ 2.32500443e-03, -8.95795005e-04,  3.08736414e-03, ...,\n",
       "          9.77081712e-04,  4.39776020e-04, -1.85228346e-04],\n",
       "        [ 2.63750041e-03, -9.13135125e-04,  3.38416966e-03, ...,\n",
       "          1.18067150e-03,  4.42007702e-04, -1.91343119e-04]],\n",
       "\n",
       "       [[-1.74784182e-05, -3.31470583e-05, -1.76763351e-04, ...,\n",
       "          3.22089909e-05,  8.59614302e-05,  1.74894638e-04],\n",
       "        [ 1.27662221e-04, -1.02395163e-04, -4.82162111e-04, ...,\n",
       "          1.74879242e-05, -1.48899897e-04,  1.59791860e-04],\n",
       "        [-2.62721351e-05, -7.43447017e-05, -5.30767138e-04, ...,\n",
       "         -1.80688570e-04, -3.35135206e-04,  1.83158205e-04],\n",
       "        ...,\n",
       "        [ 1.43129064e-03, -7.41486961e-04,  1.91311468e-03, ...,\n",
       "          8.05392105e-04, -6.10983407e-04, -5.79224026e-04],\n",
       "        [ 1.84903410e-03, -8.13234306e-04,  2.44339998e-03, ...,\n",
       "          1.09858299e-03, -3.90060653e-04, -5.82036329e-04],\n",
       "        [ 2.23781099e-03, -8.69986718e-04,  2.90155225e-03, ...,\n",
       "          1.34586438e-03, -1.96790512e-04, -5.56739396e-04]],\n",
       "\n",
       "       [[-1.74784182e-05, -3.31470583e-05, -1.76763351e-04, ...,\n",
       "          3.22089909e-05,  8.59614302e-05,  1.74894638e-04],\n",
       "        [-2.21098046e-04, -2.48356169e-04, -4.19383286e-04, ...,\n",
       "         -1.18820695e-04,  9.93299818e-06,  2.63233465e-04],\n",
       "        [-1.39900090e-04, -3.58884456e-04, -7.46951671e-04, ...,\n",
       "         -4.57358547e-04,  8.80449297e-05,  4.08799388e-04],\n",
       "        ...,\n",
       "        [ 1.12766994e-03, -8.10593599e-04,  9.31042479e-04, ...,\n",
       "          4.65320511e-04,  6.26217574e-04, -1.16154166e-04],\n",
       "        [ 1.52925286e-03, -8.34039703e-04,  1.50855992e-03, ...,\n",
       "          7.81656883e-04,  6.78550219e-04, -2.20849106e-04],\n",
       "        [ 1.91586756e-03, -8.51728779e-04,  2.03352841e-03, ...,\n",
       "          1.06242392e-03,  7.16292707e-04, -3.03117122e-04]],\n",
       "\n",
       "       ...,\n",
       "\n",
       "       [[-1.74784182e-05, -3.31470583e-05, -1.76763351e-04, ...,\n",
       "          3.22089909e-05,  8.59614302e-05,  1.74894638e-04],\n",
       "        [-1.06633015e-04, -7.40372570e-06, -1.56998198e-04, ...,\n",
       "          4.19960343e-05,  3.21701627e-05,  6.39876162e-05],\n",
       "        [ 5.60434164e-05, -8.49383432e-05, -5.08805388e-05, ...,\n",
       "         -2.42337228e-05,  4.66522579e-05, -1.49698710e-04],\n",
       "        ...,\n",
       "        [ 1.37018552e-03, -1.05608010e-03,  2.69744545e-04, ...,\n",
       "          7.57501766e-05, -1.74825298e-04, -4.61018586e-04],\n",
       "        [ 1.65861042e-03, -1.06176327e-03,  8.62806279e-04, ...,\n",
       "          3.71246337e-04, -1.46777122e-04, -5.65757742e-04],\n",
       "        [ 1.95221708e-03, -1.04821823e-03,  1.43724098e-03, ...,\n",
       "          6.60171499e-04, -1.03530765e-04, -6.31854055e-04]],\n",
       "\n",
       "       [[-1.74784182e-05, -3.31470583e-05, -1.76763351e-04, ...,\n",
       "          3.22089909e-05,  8.59614302e-05,  1.74894638e-04],\n",
       "        [-7.87336739e-06, -5.29337922e-05,  1.15366565e-05, ...,\n",
       "         -1.24583996e-04, -2.77287404e-06,  1.58684867e-04],\n",
       "        [-2.18504647e-04, -7.71446503e-05,  1.37390685e-04, ...,\n",
       "          7.32591288e-05,  1.16653304e-04, -3.58044326e-06],\n",
       "        ...,\n",
       "        [ 1.69206690e-03,  6.60991587e-04,  9.48278001e-04, ...,\n",
       "          2.05056276e-03, -6.83265753e-05,  5.37300832e-04],\n",
       "        [ 1.68132433e-03,  7.58385402e-04,  7.83640542e-04, ...,\n",
       "          1.93439762e-03,  1.37436698e-04,  3.88614630e-04],\n",
       "        [ 1.45806477e-03,  6.03847380e-04,  2.60598055e-04, ...,\n",
       "          1.62277382e-03,  3.26183683e-04,  1.44566249e-04]],\n",
       "\n",
       "       [[-1.74784182e-05, -3.31470583e-05, -1.76763351e-04, ...,\n",
       "          3.22089909e-05,  8.59614302e-05,  1.74894638e-04],\n",
       "        [-9.54678617e-05, -2.25612806e-04, -1.12356094e-04, ...,\n",
       "          4.70178456e-05,  3.66906053e-04,  2.20453556e-04],\n",
       "        [-1.56026523e-04, -4.33578010e-04, -2.06582146e-04, ...,\n",
       "          4.01267578e-04,  5.51821431e-04,  1.75239431e-04],\n",
       "        ...,\n",
       "        [-7.57008675e-04, -7.50360719e-04,  3.45537119e-04, ...,\n",
       "          1.42605073e-04,  1.96618184e-05,  5.70754462e-04],\n",
       "        [-9.42380982e-04, -7.93366926e-04,  6.12042844e-04, ...,\n",
       "          2.59059634e-05, -1.36503571e-04,  3.91000154e-04],\n",
       "        [-1.08216994e-03, -7.60488270e-04,  4.06257634e-04, ...,\n",
       "         -2.61794572e-04, -2.44414230e-04,  1.60346724e-04]]],\n",
       "      dtype=float32)>"
      ]
     },
     "execution_count": 53,
     "metadata": {},
     "output_type": "execute_result"
    }
   ],
   "source": [
    "for src_sample, tgt_sample in dataset.take(1): break\n",
    "model(src_sample)"
   ]
  },
  {
   "cell_type": "code",
   "execution_count": 54,
   "id": "d2a74e0c",
   "metadata": {},
   "outputs": [
    {
     "name": "stdout",
     "output_type": "stream",
     "text": [
      "Model: \"text_generator\"\n",
      "_________________________________________________________________\n",
      "Layer (type)                 Output Shape              Param #   \n",
      "=================================================================\n",
      "embedding (Embedding)        multiple                  3328256   \n",
      "_________________________________________________________________\n",
      "lstm (LSTM)                  multiple                  5246976   \n",
      "_________________________________________________________________\n",
      "lstm_1 (LSTM)                multiple                  8392704   \n",
      "_________________________________________________________________\n",
      "dropout (Dropout)            multiple                  0         \n",
      "_________________________________________________________________\n",
      "dense (Dense)                multiple                  13326025  \n",
      "=================================================================\n",
      "Total params: 30,293,961\n",
      "Trainable params: 30,293,961\n",
      "Non-trainable params: 0\n",
      "_________________________________________________________________\n"
     ]
    }
   ],
   "source": [
    "model.summary()"
   ]
  },
  {
   "cell_type": "code",
   "execution_count": 55,
   "id": "226c39af",
   "metadata": {},
   "outputs": [
    {
     "name": "stdout",
     "output_type": "stream",
     "text": [
      "Epoch 1/30\n",
      "658/658 [==============================] - 119s 176ms/step - loss: 3.4427\n",
      "Epoch 2/30\n",
      "658/658 [==============================] - 116s 175ms/step - loss: 3.0463\n",
      "Epoch 3/30\n",
      "658/658 [==============================] - 116s 176ms/step - loss: 2.8893\n",
      "Epoch 4/30\n",
      "658/658 [==============================] - 116s 175ms/step - loss: 2.7703\n",
      "Epoch 5/30\n",
      "658/658 [==============================] - 116s 176ms/step - loss: 2.6734\n",
      "Epoch 6/30\n",
      "658/658 [==============================] - 116s 176ms/step - loss: 2.5872\n",
      "Epoch 7/30\n",
      "658/658 [==============================] - 116s 176ms/step - loss: 2.5096\n",
      "Epoch 8/30\n",
      "658/658 [==============================] - 116s 176ms/step - loss: 2.4388\n",
      "Epoch 9/30\n",
      "658/658 [==============================] - 116s 176ms/step - loss: 2.3732\n",
      "Epoch 10/30\n",
      "658/658 [==============================] - 116s 176ms/step - loss: 2.3104\n",
      "Epoch 11/30\n",
      "658/658 [==============================] - 116s 176ms/step - loss: 2.2508\n",
      "Epoch 12/30\n",
      "658/658 [==============================] - 116s 176ms/step - loss: 2.1951\n",
      "Epoch 13/30\n",
      "658/658 [==============================] - 116s 176ms/step - loss: 2.1416\n",
      "Epoch 14/30\n",
      "658/658 [==============================] - 116s 176ms/step - loss: 2.0917\n",
      "Epoch 15/30\n",
      "658/658 [==============================] - 116s 176ms/step - loss: 2.0432\n",
      "Epoch 16/30\n",
      "658/658 [==============================] - 116s 176ms/step - loss: 1.9981\n",
      "Epoch 17/30\n",
      "658/658 [==============================] - 116s 176ms/step - loss: 1.9543\n",
      "Epoch 18/30\n",
      "658/658 [==============================] - 116s 176ms/step - loss: 1.9125\n",
      "Epoch 19/30\n",
      "658/658 [==============================] - 116s 176ms/step - loss: 1.8737\n",
      "Epoch 20/30\n",
      "658/658 [==============================] - 116s 176ms/step - loss: 1.8358\n",
      "Epoch 21/30\n",
      "658/658 [==============================] - 116s 176ms/step - loss: 1.7999\n",
      "Epoch 22/30\n",
      "658/658 [==============================] - 115s 175ms/step - loss: 1.7648\n",
      "Epoch 23/30\n",
      "658/658 [==============================] - 115s 175ms/step - loss: 1.7327\n",
      "Epoch 24/30\n",
      "658/658 [==============================] - 116s 176ms/step - loss: 1.7009\n",
      "Epoch 25/30\n",
      "658/658 [==============================] - 116s 175ms/step - loss: 1.6707\n",
      "Epoch 26/30\n",
      "658/658 [==============================] - 115s 175ms/step - loss: 1.6415\n",
      "Epoch 27/30\n",
      "658/658 [==============================] - 115s 174ms/step - loss: 1.6147\n",
      "Epoch 28/30\n",
      "658/658 [==============================] - 115s 175ms/step - loss: 1.5880\n",
      "Epoch 29/30\n",
      "658/658 [==============================] - 115s 175ms/step - loss: 1.5635\n",
      "Epoch 30/30\n",
      "658/658 [==============================] - 115s 174ms/step - loss: 1.5396\n"
     ]
    },
    {
     "data": {
      "text/plain": [
       "<keras.callbacks.History at 0x7ff9662fad00>"
      ]
     },
     "execution_count": 55,
     "metadata": {},
     "output_type": "execute_result"
    }
   ],
   "source": [
    "# 모델 학습\n",
    "\n",
    "optimizer = tf.keras.optimizers.Adam()\n",
    "loss = tf.keras.losses.SparseCategoricalCrossentropy(\n",
    "    from_logits=True,\n",
    "    reduction='none'\n",
    ")\n",
    "\n",
    "model.compile(loss=loss, optimizer=optimizer)\n",
    "model.fit(dataset, epochs=30)"
   ]
  },
  {
   "cell_type": "markdown",
   "id": "f830052d",
   "metadata": {},
   "source": [
    "**모델 평가**"
   ]
  },
  {
   "cell_type": "code",
   "execution_count": 56,
   "id": "df689518",
   "metadata": {},
   "outputs": [],
   "source": [
    "def generate_text(model, tokenizer, init_sentence=\"<start>\", max_len=20):\n",
    "    # 테스트를 위해서 입력받은 init_sentence도 텐서로 변환합니다\n",
    "    test_input = tokenizer.texts_to_sequences([init_sentence])\n",
    "    test_tensor = tf.convert_to_tensor(test_input, dtype=tf.int64)\n",
    "    end_token = tokenizer.word_index[\"<end>\"]\n",
    "\n",
    "    # 단어 하나씩 예측해 문장을 만듭니다\n",
    "    #    1. 입력받은 문장의 텐서를 입력합니다\n",
    "    #    2. 예측된 값 중 가장 높은 확률인 word index를 뽑아냅니다\n",
    "    #    3. 2에서 예측된 word index를 문장 뒤에 붙입니다\n",
    "    #    4. 모델이 <end>를 예측했거나, max_len에 도달했다면 문장 생성을 마칩니다\n",
    "    while True:\n",
    "        # 1\n",
    "        predict = model(test_tensor) \n",
    "        # 2\n",
    "        predict_word = tf.argmax(tf.nn.softmax(predict, axis=-1), axis=-1)[:, -1] \n",
    "        # 3 \n",
    "        test_tensor = tf.concat([test_tensor,\n",
    "                                 tf.expand_dims(predict_word, axis=0)], axis=-1)\n",
    "        # 4\n",
    "        if predict_word.numpy()[0] == end_token: break\n",
    "        if test_tensor.shape[1] >= max_len: break\n",
    "\n",
    "    generated = \"\"\n",
    "    # tokenizer를 이용해 word index를 단어로 하나씩 변환합니다 \n",
    "    for word_index in test_tensor[0].numpy():\n",
    "        generated += tokenizer.index_word[word_index] + \" \"\n",
    "\n",
    "    return generated"
   ]
  },
  {
   "cell_type": "code",
   "execution_count": 59,
   "id": "30c017e6",
   "metadata": {},
   "outputs": [
    {
     "data": {
      "text/plain": [
       "'<start> i love you <end> '"
      ]
     },
     "execution_count": 59,
     "metadata": {},
     "output_type": "execute_result"
    }
   ],
   "source": [
    "generate_text(model, tokenizer, init_sentence=\"<start> i love\")"
   ]
  },
  {
   "cell_type": "code",
   "execution_count": 68,
   "id": "c63d9a87",
   "metadata": {},
   "outputs": [
    {
     "data": {
      "text/plain": [
       "\"<start> that i don't wanna be alone <end> \""
      ]
     },
     "execution_count": 68,
     "metadata": {},
     "output_type": "execute_result"
    }
   ],
   "source": [
    "generate_text(model, tokenizer, init_sentence=\"<start> that\")"
   ]
  },
  {
   "cell_type": "code",
   "execution_count": 69,
   "id": "75c4a0c7",
   "metadata": {},
   "outputs": [
    {
     "data": {
      "text/plain": [
       "\"<start> you've got a friend in me <end> \""
      ]
     },
     "execution_count": 69,
     "metadata": {},
     "output_type": "execute_result"
    }
   ],
   "source": [
    "generate_text(model, tokenizer, init_sentence=\"<start> you've\")"
   ]
  },
  {
   "cell_type": "code",
   "execution_count": 70,
   "id": "cf9edddd",
   "metadata": {},
   "outputs": [
    {
     "data": {
      "text/plain": [
       "\"<start> i'd like to be under the sea <end> \""
      ]
     },
     "execution_count": 70,
     "metadata": {},
     "output_type": "execute_result"
    }
   ],
   "source": [
    "generate_text(model, tokenizer, init_sentence=\"<start> i'd\")"
   ]
  },
  {
   "cell_type": "code",
   "execution_count": 71,
   "id": "03336933",
   "metadata": {},
   "outputs": [
    {
     "data": {
      "text/plain": [
       "'<start> hold on to me and never let me go <end> '"
      ]
     },
     "execution_count": 71,
     "metadata": {},
     "output_type": "execute_result"
    }
   ],
   "source": [
    "generate_text(model, tokenizer, init_sentence=\"<start> hold on\")"
   ]
  },
  {
   "cell_type": "code",
   "execution_count": 72,
   "id": "53c922fc",
   "metadata": {},
   "outputs": [
    {
     "data": {
      "text/plain": [
       "\"<start> keep on with the force don't stop <end> \""
      ]
     },
     "execution_count": 72,
     "metadata": {},
     "output_type": "execute_result"
    }
   ],
   "source": [
    "generate_text(model, tokenizer, init_sentence=\"<start> keep\")"
   ]
  },
  {
   "cell_type": "code",
   "execution_count": 73,
   "id": "c1882453",
   "metadata": {},
   "outputs": [
    {
     "data": {
      "text/plain": [
       "'<start> if you want to party <end> '"
      ]
     },
     "execution_count": 73,
     "metadata": {},
     "output_type": "execute_result"
    }
   ],
   "source": [
    "generate_text(model, tokenizer, init_sentence=\"<start> if you\")"
   ]
  },
  {
   "cell_type": "code",
   "execution_count": 96,
   "id": "f95e1644",
   "metadata": {},
   "outputs": [
    {
     "data": {
      "text/plain": [
       "'<start> hallelujah <end> '"
      ]
     },
     "execution_count": 96,
     "metadata": {},
     "output_type": "execute_result"
    }
   ],
   "source": [
    "generate_text(model, tokenizer, init_sentence=\"<start> Hallelujah\")"
   ]
  },
  {
   "cell_type": "code",
   "execution_count": 76,
   "id": "dbd0dc4c",
   "metadata": {},
   "outputs": [
    {
     "data": {
      "text/plain": [
       "'<start> we can make it easy if we lift each other <end> '"
      ]
     },
     "execution_count": 76,
     "metadata": {},
     "output_type": "execute_result"
    }
   ],
   "source": [
    "generate_text(model, tokenizer, init_sentence=\"<start> we\")"
   ]
  },
  {
   "cell_type": "code",
   "execution_count": 77,
   "id": "61ae05c9",
   "metadata": {},
   "outputs": [
    {
     "data": {
      "text/plain": [
       "\"<start> don't you know that you're toxic? <end> \""
      ]
     },
     "execution_count": 77,
     "metadata": {},
     "output_type": "execute_result"
    }
   ],
   "source": [
    "generate_text(model, tokenizer, init_sentence=\"<start> don't\")"
   ]
  },
  {
   "cell_type": "code",
   "execution_count": 78,
   "id": "d8822dbc",
   "metadata": {},
   "outputs": [
    {
     "data": {
      "text/plain": [
       "'<start> do not cry <end> '"
      ]
     },
     "execution_count": 78,
     "metadata": {},
     "output_type": "execute_result"
    }
   ],
   "source": [
    "generate_text(model, tokenizer, init_sentence=\"<start> do not\")"
   ]
  },
  {
   "cell_type": "code",
   "execution_count": 81,
   "id": "cb9c6bfa",
   "metadata": {},
   "outputs": [
    {
     "data": {
      "text/plain": [
       "'<start> where the eyelids go <end> '"
      ]
     },
     "execution_count": 81,
     "metadata": {},
     "output_type": "execute_result"
    }
   ],
   "source": [
    "generate_text(model, tokenizer, init_sentence=\"<start> where\")"
   ]
  },
  {
   "cell_type": "markdown",
   "id": "5747cd63",
   "metadata": {},
   "source": [
    "### 회고"
   ]
  },
  {
   "cell_type": "code",
   "execution_count": 83,
   "id": "a0fc2251",
   "metadata": {},
   "outputs": [
    {
     "name": "stdout",
     "output_type": "stream",
     "text": [
      "1054/1054 [==============================] - 13s 12ms/step - loss: 1.2895\n",
      "1.2895\n"
     ]
    }
   ],
   "source": [
    "loss = model.evaluate(enc_val,  dec_val)\n",
    "\n",
    "print(round(loss,4))"
   ]
  },
  {
   "cell_type": "code",
   "execution_count": 84,
   "id": "24f83513",
   "metadata": {},
   "outputs": [
    {
     "data": {
      "text/plain": [
       "'<start> we can make it easy if we lift each other <end> '"
      ]
     },
     "execution_count": 84,
     "metadata": {},
     "output_type": "execute_result"
    }
   ],
   "source": [
    "generate_text(model, tokenizer, init_sentence=\"<start> we\")"
   ]
  },
  {
   "cell_type": "code",
   "execution_count": 85,
   "id": "fd7a18cd",
   "metadata": {},
   "outputs": [
    {
     "data": {
      "text/plain": [
       "\"<start> we've got a groovy thing <end> \""
      ]
     },
     "execution_count": 85,
     "metadata": {},
     "output_type": "execute_result"
    }
   ],
   "source": [
    "generate_text(model, tokenizer, init_sentence=\"<start> we've\")"
   ]
  },
  {
   "cell_type": "code",
   "execution_count": 87,
   "id": "e537b85b",
   "metadata": {},
   "outputs": [
    {
     "data": {
      "text/plain": [
       "'<start> passing <unk> <end> '"
      ]
     },
     "execution_count": 87,
     "metadata": {},
     "output_type": "execute_result"
    }
   ],
   "source": [
    "generate_text(model, tokenizer, init_sentence=\"<start> passing\")"
   ]
  },
  {
   "cell_type": "code",
   "execution_count": 89,
   "id": "776ab3be",
   "metadata": {},
   "outputs": [
    {
     "data": {
      "text/plain": [
       "'<start> on the <unk> of the bay, <end> '"
      ]
     },
     "execution_count": 89,
     "metadata": {},
     "output_type": "execute_result"
    }
   ],
   "source": [
    "generate_text(model, tokenizer, init_sentence=\"<start> on\")"
   ]
  },
  {
   "cell_type": "code",
   "execution_count": 95,
   "id": "80c7e106",
   "metadata": {},
   "outputs": [
    {
     "data": {
      "text/plain": [
       "'<start> depending on how you mix that shit <end> '"
      ]
     },
     "execution_count": 95,
     "metadata": {},
     "output_type": "execute_result"
    }
   ],
   "source": [
    "generate_text(model, tokenizer, init_sentence=\"<start> depending\")"
   ]
  },
  {
   "cell_type": "markdown",
   "id": "8d5a9aa0",
   "metadata": {},
   "source": [
    ": 먼저, los를 1.2895까지 낮춘 모델을 만들었으며,\n",
    "<br/>we've와 같은 불용어도 삭제하지 않고, 어퍼스트로피만 남겨놨었는데 잘 인식하는 것 같고 <br/>\n",
    "주어만 적어도 문장이 매끄럽게 완성돼서 전반적으로 놀라웠다.<br/>\n",
    "동사 뒤 자주 딸려오는 전치사가 자연스럽게 매칭돼 이게 반복학습의 힘인가? 라는 생각을 하게 되기도 하였지만 문장 자체의 매끄러움이나 동명사나, 전치사만 주어졌을 때 모델이 인풋값을 제대로 인식하지 못하는 결함이 바로 발견되어 매우 아쉬웠다.\n",
    "자연어처리 맛보기정도로 프로젝트를 진행했지만, 여태까지 진행했던 익스 중 가장 재밌었던거 같다."
   ]
  }
 ],
 "metadata": {
  "kernelspec": {
   "display_name": "Python 3 (ipykernel)",
   "language": "python",
   "name": "python3"
  },
  "language_info": {
   "codemirror_mode": {
    "name": "ipython",
    "version": 3
   },
   "file_extension": ".py",
   "mimetype": "text/x-python",
   "name": "python",
   "nbconvert_exporter": "python",
   "pygments_lexer": "ipython3",
   "version": "3.9.7"
  }
 },
 "nbformat": 4,
 "nbformat_minor": 5
}
